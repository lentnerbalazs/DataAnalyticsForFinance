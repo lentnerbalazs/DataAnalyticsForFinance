{
 "cells": [
  {
   "cell_type": "markdown",
   "metadata": {},
   "source": [
    "[![Binder](img/badge-binder.svg)](https://mybinder.org/v2/gh/nhirschey/teaching/gh-pages?filepath=football-tuples-and-records.ipynb)&emsp;\n",
    "[![Script](img/badge-script.svg)](/Teaching//football-tuples-and-records.fsx)&emsp;\n",
    "[![Notebook](img/badge-notebook.svg)](/Teaching//football-tuples-and-records.ipynb)\n",
    "\n",
    "# Working with Tuples and Records.\n",
    "\n",
    "> Developed with [Davide Costa](https://github.com/DavideGCosta)\n",
    "> Editor: Luuk Geraets (52339) & Balázs Lentner (52327)\n",
    "\n",
    "This set of exercises covers creating and manipulating tuples, records, and anonymous records.\n",
    "Before you start it is a good idea to review the relevant sections of\n",
    "the F# language reference (\n",
    "[tuples](https://docs.microsoft.com/en-us/dotnet/fsharp/language-reference/tuples),\n",
    "[records](https://docs.microsoft.com/en-us/dotnet/fsharp/language-reference/records),\n",
    "and [anonymous records](https://docs.microsoft.com/en-us/dotnet/fsharp/language-reference/anonymous-records)\n",
    ") and\n",
    "F# for fun and profit (\n",
    "[tuples](https://fsharpforfunandprofit.com/posts/tuples/) and\n",
    "[records](https://fsharpforfunandprofit.com/posts/records/))\n",
    "before you start.\n",
    "\n",
    "## Import the Football Players Data from the Csv File\n",
    "\n"
   ]
  },
  {
   "cell_type": "code",
   "execution_count": null,
   "metadata": {
    "dotnet_interactive": {
     "language": "fsharp"
    }
   },
   "outputs": [
    {
     "data": {
      "text/html": [
       "<div><div></div><div></div><div><strong>Installed Packages</strong><ul><li><span>FSharp.Data, 4.2.7</span></li></ul></div></div>"
      ]
     },
     "metadata": {},
     "output_type": "display_data"
    }
   ],
   "source": [
    "#r \"nuget:FSharp.Data\"\n",
    "open FSharp.Data\n"
   ]
  },
  {
   "cell_type": "markdown",
   "metadata": {},
   "source": [
    "In order to import the data correctly we need to create the sample, define the type from the sample and then load the csv file.\n",
    "We'll use [FSharp.Data CsvProvider](https://fsprojects.github.io/FSharp.Data/library/CsvProvider.html).\n",
    "\n",
    "### Load the Csv file.\n",
    "\n",
    "We define the type from the csv sample file.\n",
    "\n"
   ]
  },
  {
   "cell_type": "code",
   "execution_count": null,
   "metadata": {
    "dotnet_interactive": {
     "language": "fsharp"
    }
   },
   "outputs": [],
   "source": [
    "let [<Literal>] CsvPath = __SOURCE_DIRECTORY__ + \"/FootballPlayers.csv\"\n",
    "type FootballPlayersCsv = CsvProvider<CsvPath>\n"
   ]
  },
  {
   "cell_type": "markdown",
   "metadata": {},
   "source": [
    "This will load the sample csv file.\n",
    "\n"
   ]
  },
  {
   "cell_type": "code",
   "execution_count": null,
   "metadata": {
    "dotnet_interactive": {
     "language": "fsharp"
    }
   },
   "outputs": [],
   "source": [
    "let playerStatsTable = \n",
    "    FootballPlayersCsv.GetSample().Rows\n",
    "    |> Seq.toList\n"
   ]
  },
  {
   "cell_type": "markdown",
   "metadata": {},
   "source": [
    "Let's see the first 5 rows from the loaded Csv data, stored in `playerStatsTable`.\n",
    "Again, we do this by using the List `List.truncate` property.\n",
    "\n"
   ]
  },
  {
   "cell_type": "code",
   "execution_count": null,
   "metadata": {
    "dotnet_interactive": {
     "language": "fsharp"
    }
   },
   "outputs": [
    {
     "data": {
      "text/html": [
       "<table><thead><tr><th><i>index</i></th><th>Item1</th><th>Item2</th><th>Item3</th><th>Item4</th><th>Item5</th><th>Item6</th><th>Item7</th><th>Rest</th></tr></thead><tbody><tr><td>0</td><td>Robert Lewandowski</td><td>pl POL</td><td>FW</td><td>Bayern Munich</td><td>deBundesliga</td><td><div class=\"dni-plaintext\">33</div></td><td><div class=\"dni-plaintext\">23</div></td><td><table><thead><tr><th>Item1</th></tr></thead><tbody><tr><td><div class=\"dni-plaintext\">28</div></td></tr></tbody></table></td></tr><tr><td>1</td><td>Patrik Schick</td><td>cz CZE</td><td>FW</td><td>Leverkusen</td><td>deBundesliga</td><td><div class=\"dni-plaintext\">26</div></td><td><div class=\"dni-plaintext\">20</div></td><td><table><thead><tr><th>Item1</th></tr></thead><tbody><tr><td><div class=\"dni-plaintext\">20</div></td></tr></tbody></table></td></tr><tr><td>2</td><td>Ciro Immobile</td><td>it ITA</td><td>FW</td><td>Lazio</td><td>itSerie A</td><td><div class=\"dni-plaintext\">32</div></td><td><div class=\"dni-plaintext\">21</div></td><td><table><thead><tr><th>Item1</th></tr></thead><tbody><tr><td><div class=\"dni-plaintext\">19</div></td></tr></tbody></table></td></tr><tr><td>3</td><td>Karim Benzema</td><td>fr FRA</td><td>FW</td><td>Real Madrid</td><td>esLa Liga</td><td><div class=\"dni-plaintext\">34</div></td><td><div class=\"dni-plaintext\">22</div></td><td><table><thead><tr><th>Item1</th></tr></thead><tbody><tr><td><div class=\"dni-plaintext\">18</div></td></tr></tbody></table></td></tr><tr><td>4</td><td>Mohamed Salah</td><td>eg EGY</td><td>FW</td><td>Liverpool</td><td>engPremier League</td><td><div class=\"dni-plaintext\">29</div></td><td><div class=\"dni-plaintext\">23</div></td><td><table><thead><tr><th>Item1</th></tr></thead><tbody><tr><td><div class=\"dni-plaintext\">17</div></td></tr></tbody></table></td></tr></tbody></table>"
      ]
     },
     "metadata": {},
     "output_type": "display_data"
    }
   ],
   "source": [
    "playerStatsTable\n",
    "|> List.truncate 5\n"
   ]
  },
  {
   "cell_type": "markdown",
   "metadata": {},
   "source": [
    "## EXERCISES - PART 1\n",
    "\n",
    "* [Transforming collection elements into new types.](#Transforming-collections)\n",
    "  \n",
    "\n",
    "  0 [Creating tuples.](#Creating-tuples)\n",
    "    \n",
    "  \n",
    "  1 [Creating records.](#Creating-records)\n",
    "    \n",
    "  \n",
    "  2 [Creating anonymous records.](#Creating-anonymous-records)\n",
    "    \n",
    "  \n",
    "\n",
    "* [Simple data transformations.](#Simple-transformations)\n",
    "  \n",
    "\n",
    "  0 [Transformations using tuples.](#Transformations-using-tuples)\n",
    "    \n",
    "  \n",
    "  1 [Transformations using records.](#Transformations-using-records)\n",
    "    \n",
    "  \n",
    "  2 [Transformations using anonymous records.](#Transformations-using-anonymous-records)\n",
    "    \n",
    "  \n",
    "\n",
    "* [Creating and transforming TeamRecord.](#Creating-and-transforming-TeamRecord)\n",
    "  \n",
    "\n",
    "<h2 class=numbered><a name=Transforming-collections class=anchor href=#Transforming-collections>Transforming collections</a></h2>\n",
    "\n",
    "<h3 class=numbered><a name=Creating-tuples class=anchor href=#Creating-tuples>Creating tuples</a></h3>\n",
    "\n",
    "Example: Transform each element of the `playerStatsTable` List into a tuple with the player and nation ( `Player`, `Nation`)\n",
    "\n"
   ]
  },
  {
   "cell_type": "code",
   "execution_count": null,
   "metadata": {
    "dotnet_interactive": {
     "language": "fsharp"
    }
   },
   "outputs": [
    {
     "data": {
      "text/html": [
       "<table><thead><tr><th><i>index</i></th><th>Item1</th><th>Item2</th></tr></thead><tbody><tr><td>0</td><td>Robert Lewandowski</td><td>pl POL</td></tr><tr><td>1</td><td>Patrik Schick</td><td>cz CZE</td></tr><tr><td>2</td><td>Ciro Immobile</td><td>it ITA</td></tr><tr><td>3</td><td>Karim Benzema</td><td>fr FRA</td></tr><tr><td>4</td><td>Mohamed Salah</td><td>eg EGY</td></tr></tbody></table>"
      ]
     },
     "metadata": {},
     "output_type": "display_data"
    }
   ],
   "source": [
    "playerStatsTable\n",
    "|> List.map(fun x -> x.Player, x.Nation)\n",
    "|> List.truncate 5 //just to observe the first 5 rows, not a part of the exercise.\n"
   ]
  },
  {
   "cell_type": "markdown",
   "metadata": {},
   "source": [
    "* Transform each element of the `playerStatsTable` List into a tuple with the player and team ( `Player`, `Team`)\n",
    "\n",
    "<div style=\"padding-left: 40px;\">\n",
    "<p> \n",
    "<span>\n",
    "<details>\n",
    "<summary><p style=\"display:inline\">answer</p></summary>\n",
    "\n",
    "```\n",
    "input.fsx (1,1)-(1,17) typecheck error The value or constructor 'playerStatsTable' is not defined. Maybe you want one of the following:\n",
    "   playersByPosition\n",
    "input.fsx (2,34)-(2,38) typecheck error The type 'PlayerAndNation' does not define the field, constructor or member 'Team'.\n",
    "```\n",
    "\n",
    "</details>\n",
    "</span>\n",
    "</p>\n",
    "</div>\n",
    "\n"
   ]
  },
  {
   "cell_type": "code",
   "execution_count": null,
   "metadata": {
    "dotnet_interactive": {
     "language": "fsharp"
    }
   },
   "outputs": [
    {
     "data": {
      "text/html": [
       "<span><a href=\"https://docs.microsoft.com/dotnet/api/microsoft.fsharp.collections.fsharplist-1?view=net-5.0\">Microsoft.FSharp.Collections.FSharpList&lt;System.Tuple&lt;System.String,System.String,System.String,System.String,System.String,System.Int32,System.Int32,System.Tuple&lt;System.Int32&gt;&gt;&gt;</a></span>"
      ]
     },
     "metadata": {},
     "output_type": "display_data"
    }
   ],
   "source": [
    "// write your code here, see website for solution.\n",
    "playerStatsTable\n",
    "|> List.map(fun x -> x.Player, x.Team)"
   ]
  },
  {
   "cell_type": "code",
   "execution_count": null,
   "metadata": {
    "dotnet_interactive": {
     "language": "csharp"
    }
   },
   "outputs": [
    {
     "ename": "Error",
     "evalue": "(1,13): error CS1002: ; expected\r\n(1,26): error CS1002: ; expected\r\n(1,33): error CS1056: Unexpected character '`'\r\n(1,34): error CS1002: ; expected\r\n(1,50): error CS1002: ; expected\r\n(1,50): error CS1056: Unexpected character '`'\r\n(1,62): error CS1002: ; expected\r\n(1,70): error CS1002: ; expected\r\n(1,79): error CS1002: ; expected\r\n(1,90): error CS1002: ; expected\r\n(1,110): error CS1056: Unexpected character '`'\r\n(1,117): error CS1056: Unexpected character '`'\r\n(1,120): error CS1525: Invalid expression term ''\r\n(1,120): error CS1056: Unexpected character '`'\r\n(1,121): error CS1003: Syntax error, ',' expected\r\n(1,127): error CS1056: Unexpected character '`'\r\n(3,6): error CS1002: ; expected\r\n(3,34): error CS1525: Invalid expression term '<'\r\n(4,4): error CS1525: Invalid expression term '<'\r\n(5,7): error CS1525: Invalid expression term '<'\r\n(6,10): error CS1525: Invalid expression term '<'\r\n(7,10): error CS1525: Invalid expression term '<'\r\n(7,13): error CS1002: ; expected\r\n(7,43): error CS1525: Invalid expression term '/'\r\n(7,46): error CS1525: Invalid expression term '<'\r\n(7,47): error CS1525: Invalid expression term '/'\r\n(7,56): error CS1525: Invalid expression term ''\r\n(7,56): error CS1002: ; expected\r\n(9,1): error CS1056: Unexpected character '`'\r\n(9,2): error CS1056: Unexpected character '`'\r\n(9,3): error CS1056: Unexpected character '`'\r\n(10,24): error CS1002: ; expected\r\n(10,40): error CS1002: ; expected\r\n(10,50): error CS1002: ; expected\r\n(10,65): error CS1002: ; expected\r\n(10,65): error CS1012: Too many characters in character literal\r\n(10,110): error CS1002: ; expected\r\n(10,119): error CS1002: ; expected\r\n(10,126): error CS1002: ; expected\r\n(11,21): error CS1001: Identifier expected\r\n(11,21): error CS1002: ; expected\r\n(12,25): error CS1002: ; expected\r\n(12,41): error CS1002: ; expected\r\n(12,50): error CS1002: ; expected\r\n(12,50): error CS1012: Too many characters in character literal\r\n(12,68): error CS1002: ; expected\r\n(12,77): error CS1002: ; expected\r\n(12,88): error CS1002: ; expected\r\n(12,93): error CS1002: ; expected\r\n(12,93): error CS7017: Member definition, statement, or end-of-file expected\r\n(12,110): error CS1002: ; expected\r\n(12,117): error CS1002: ; expected\r\n(12,117): error CS1012: Too many characters in character literal\r\n(12,126): error CS1001: Identifier expected\r\n(12,126): error CS1002: ; expected\r\n(13,1): error CS1056: Unexpected character '`'\r\n(13,2): error CS1056: Unexpected character '`'\r\n(13,3): error CS1056: Unexpected character '`'\r\n(13,4): error CS1525: Invalid expression term '<'\r\n(15,2): error CS1525: Invalid expression term '/'\r\n(15,11): error CS1525: Invalid expression term '<'\r\n(16,2): error CS1525: Invalid expression term '/'\r\n(16,8): error CS1525: Invalid expression term '<'\r\n(17,2): error CS1525: Invalid expression term '/'\r\n(17,5): error CS1525: Invalid expression term '<'\r\n(18,2): error CS1525: Invalid expression term '/'\r\n(18,7): error CS1733: Expected expression",
     "output_type": "error",
     "traceback": [
      "(1,13): error CS1002: ; expected\r\n",
      "(1,26): error CS1002: ; expected\r\n",
      "(1,33): error CS1056: Unexpected character '`'\r\n",
      "(1,34): error CS1002: ; expected\r\n",
      "(1,50): error CS1002: ; expected\r\n",
      "(1,50): error CS1056: Unexpected character '`'\r\n",
      "(1,62): error CS1002: ; expected\r\n",
      "(1,70): error CS1002: ; expected\r\n",
      "(1,79): error CS1002: ; expected\r\n",
      "(1,90): error CS1002: ; expected\r\n",
      "(1,110): error CS1056: Unexpected character '`'\r\n",
      "(1,117): error CS1056: Unexpected character '`'\r\n",
      "(1,120): error CS1525: Invalid expression term ''\r\n",
      "(1,120): error CS1056: Unexpected character '`'\r\n",
      "(1,121): error CS1003: Syntax error, ',' expected\r\n",
      "(1,127): error CS1056: Unexpected character '`'\r\n",
      "(3,6): error CS1002: ; expected\r\n",
      "(3,34): error CS1525: Invalid expression term '<'\r\n",
      "(4,4): error CS1525: Invalid expression term '<'\r\n",
      "(5,7): error CS1525: Invalid expression term '<'\r\n",
      "(6,10): error CS1525: Invalid expression term '<'\r\n",
      "(7,10): error CS1525: Invalid expression term '<'\r\n",
      "(7,13): error CS1002: ; expected\r\n",
      "(7,43): error CS1525: Invalid expression term '/'\r\n",
      "(7,46): error CS1525: Invalid expression term '<'\r\n",
      "(7,47): error CS1525: Invalid expression term '/'\r\n",
      "(7,56): error CS1525: Invalid expression term ''\r\n",
      "(7,56): error CS1002: ; expected\r\n",
      "(9,1): error CS1056: Unexpected character '`'\r\n",
      "(9,2): error CS1056: Unexpected character '`'\r\n",
      "(9,3): error CS1056: Unexpected character '`'\r\n",
      "(10,24): error CS1002: ; expected\r\n",
      "(10,40): error CS1002: ; expected\r\n",
      "(10,50): error CS1002: ; expected\r\n",
      "(10,65): error CS1002: ; expected\r\n",
      "(10,65): error CS1012: Too many characters in character literal\r\n",
      "(10,110): error CS1002: ; expected\r\n",
      "(10,119): error CS1002: ; expected\r\n",
      "(10,126): error CS1002: ; expected\r\n",
      "(11,21): error CS1001: Identifier expected\r\n",
      "(11,21): error CS1002: ; expected\r\n",
      "(12,25): error CS1002: ; expected\r\n",
      "(12,41): error CS1002: ; expected\r\n",
      "(12,50): error CS1002: ; expected\r\n",
      "(12,50): error CS1012: Too many characters in character literal\r\n",
      "(12,68): error CS1002: ; expected\r\n",
      "(12,77): error CS1002: ; expected\r\n",
      "(12,88): error CS1002: ; expected\r\n",
      "(12,93): error CS1002: ; expected\r\n",
      "(12,93): error CS7017: Member definition, statement, or end-of-file expected\r\n",
      "(12,110): error CS1002: ; expected\r\n",
      "(12,117): error CS1002: ; expected\r\n",
      "(12,117): error CS1012: Too many characters in character literal\r\n",
      "(12,126): error CS1001: Identifier expected\r\n",
      "(12,126): error CS1002: ; expected\r\n",
      "(13,1): error CS1056: Unexpected character '`'\r\n",
      "(13,2): error CS1056: Unexpected character '`'\r\n",
      "(13,3): error CS1056: Unexpected character '`'\r\n",
      "(13,4): error CS1525: Invalid expression term '<'\r\n",
      "(15,2): error CS1525: Invalid expression term '/'\r\n",
      "(15,11): error CS1525: Invalid expression term '<'\r\n",
      "(16,2): error CS1525: Invalid expression term '/'\r\n",
      "(16,8): error CS1525: Invalid expression term '<'\r\n",
      "(17,2): error CS1525: Invalid expression term '/'\r\n",
      "(17,5): error CS1525: Invalid expression term '<'\r\n",
      "(18,2): error CS1525: Invalid expression term '/'\r\n",
      "(18,7): error CS1733: Expected expression"
     ]
    }
   ],
   "source": [
    "* Transform each element of the `playerStatsTable` List into a tuple with the player and league/competiton ( `Player`, `League`)\n",
    "\n",
    "<div style=\"padding-left: 40px;\">\n",
    "<p> \n",
    "<span>\n",
    "<details>\n",
    "<summary><p style=\"display:inline\">answer</p></summary>\n",
    "\n",
    "```\n",
    "input.fsx (1,1)-(1,17) typecheck error The value or constructor 'playerStatsTable' is not defined. Maybe you want one of the following:\n",
    "   playersByPosition\n",
    "input.fsx (2,34)-(2,40) typecheck error The type 'PlayerAndNation' does not define the field, constructor or member 'League'.\n",
    "```\n",
    "\n",
    "</details>\n",
    "</span>\n",
    "</p>\n",
    "</div>\n",
    "\n"
   ]
  },
  {
   "cell_type": "code",
   "execution_count": null,
   "metadata": {
    "dotnet_interactive": {
     "language": "fsharp"
    }
   },
   "outputs": [],
   "source": [
    "// write your code here, see website for solution.\n"
   ]
  },
  {
   "cell_type": "markdown",
   "metadata": {},
   "source": [
    "* Transform each element of the `playerStatsTable` List into a tuple with the player and age ( `Player`, `Age`)\n",
    "\n",
    "<div style=\"padding-left: 40px;\">\n",
    "<p> \n",
    "<span>\n",
    "<details>\n",
    "<summary><p style=\"display:inline\">answer</p></summary>\n",
    "\n",
    "```\n",
    "input.fsx (1,1)-(1,17) typecheck error The value or constructor 'playerStatsTable' is not defined. Maybe you want one of the following:\n",
    "   playersByPosition\n",
    "input.fsx (2,34)-(2,37) typecheck error The type 'PlayerAndNation' does not define the field, constructor or member 'Age'.\n",
    "```\n",
    "\n",
    "</details>\n",
    "</span>\n",
    "</p>\n",
    "</div>\n",
    "\n"
   ]
  },
  {
   "cell_type": "code",
   "execution_count": null,
   "metadata": {
    "dotnet_interactive": {
     "language": "fsharp"
    }
   },
   "outputs": [
    {
     "data": {
      "text/html": [
       "<table><thead><tr><th><i>index</i></th><th>Item1</th><th>Item2</th></tr></thead><tbody><tr><td>0</td><td>Robert Lewandowski</td><td><div class=\"dni-plaintext\">33</div></td></tr><tr><td>1</td><td>Patrik Schick</td><td><div class=\"dni-plaintext\">26</div></td></tr><tr><td>2</td><td>Ciro Immobile</td><td><div class=\"dni-plaintext\">32</div></td></tr><tr><td>3</td><td>Karim Benzema</td><td><div class=\"dni-plaintext\">34</div></td></tr><tr><td>4</td><td>Mohamed Salah</td><td><div class=\"dni-plaintext\">29</div></td></tr><tr><td>5</td><td>Dušan Vlahović</td><td><div class=\"dni-plaintext\">22</div></td></tr><tr><td>6</td><td>Erling Haaland</td><td><div class=\"dni-plaintext\">21</div></td></tr><tr><td>7</td><td>Anthony Modeste</td><td><div class=\"dni-plaintext\">33</div></td></tr><tr><td>8</td><td>Wissam Ben Yedder</td><td><div class=\"dni-plaintext\">31</div></td></tr><tr><td>9</td><td>Vinicius J&#250;nior</td><td><div class=\"dni-plaintext\">21</div></td></tr><tr><td>10</td><td>Ra&#250;l de Tom&#225;s</td><td><div class=\"dni-plaintext\">27</div></td></tr><tr><td>11</td><td>Christopher Nkunku</td><td><div class=\"dni-plaintext\">24</div></td></tr><tr><td>12</td><td>Martin Terrier</td><td><div class=\"dni-plaintext\">24</div></td></tr><tr><td>13</td><td>Kylian Mbapp&#233;</td><td><div class=\"dni-plaintext\">23</div></td></tr><tr><td>14</td><td>Juanmi</td><td><div class=\"dni-plaintext\">28</div></td></tr><tr><td>15</td><td>Joselu</td><td><div class=\"dni-plaintext\">31</div></td></tr><tr><td>16</td><td>Jonathan David</td><td><div class=\"dni-plaintext\">22</div></td></tr><tr><td>17</td><td>Giovanni Simeone</td><td><div class=\"dni-plaintext\">26</div></td></tr><tr><td>18</td><td>Diogo Jota</td><td><div class=\"dni-plaintext\">25</div></td></tr><tr><td>19</td><td>&#193;ngel Correa</td><td><div class=\"dni-plaintext\">26</div></td></tr><tr><td colspan=\"3\"><i>... (more)</i></td></tr></tbody></table>"
      ]
     },
     "metadata": {},
     "output_type": "display_data"
    }
   ],
   "source": [
    "// write your code here, see website for solution.\n",
    "playerStatsTable\n",
    "|> List.map(fun x -> x.Player, x.Age)"
   ]
  },
  {
   "cell_type": "markdown",
   "metadata": {},
   "source": [
    "* Transform each element of the `playerStatsTable` List into a tuple with the player and matches played ( `Player`, `MatchesPlayed`)\n",
    "\n",
    "<div style=\"padding-left: 40px;\">\n",
    "<p> \n",
    "<span>\n",
    "<details>\n",
    "<summary><p style=\"display:inline\">answer</p></summary>\n",
    "\n",
    "```\n",
    "input.fsx (1,1)-(1,17) typecheck error The value or constructor 'playerStatsTable' is not defined. Maybe you want one of the following:\n",
    "   playersByPosition\n",
    "input.fsx (2,34)-(2,47) typecheck error The type 'PlayerAndNation' does not define the field, constructor or member 'MatchesPlayed'.\n",
    "```\n",
    "\n",
    "</details>\n",
    "</span>\n",
    "</p>\n",
    "</div>\n",
    "\n"
   ]
  },
  {
   "cell_type": "code",
   "execution_count": null,
   "metadata": {
    "dotnet_interactive": {
     "language": "fsharp"
    }
   },
   "outputs": [
    {
     "data": {
      "text/html": [
       "<table><thead><tr><th><i>index</i></th><th>Item1</th><th>Item2</th></tr></thead><tbody><tr><td>0</td><td>Robert Lewandowski</td><td><div class=\"dni-plaintext\">23</div></td></tr><tr><td>1</td><td>Patrik Schick</td><td><div class=\"dni-plaintext\">20</div></td></tr><tr><td>2</td><td>Ciro Immobile</td><td><div class=\"dni-plaintext\">21</div></td></tr><tr><td>3</td><td>Karim Benzema</td><td><div class=\"dni-plaintext\">22</div></td></tr><tr><td>4</td><td>Mohamed Salah</td><td><div class=\"dni-plaintext\">23</div></td></tr><tr><td>5</td><td>Dušan Vlahović</td><td><div class=\"dni-plaintext\">21</div></td></tr><tr><td>6</td><td>Erling Haaland</td><td><div class=\"dni-plaintext\">14</div></td></tr><tr><td>7</td><td>Anthony Modeste</td><td><div class=\"dni-plaintext\">22</div></td></tr><tr><td>8</td><td>Wissam Ben Yedder</td><td><div class=\"dni-plaintext\">24</div></td></tr><tr><td>9</td><td>Vinicius J&#250;nior</td><td><div class=\"dni-plaintext\">23</div></td></tr><tr><td>10</td><td>Ra&#250;l de Tom&#225;s</td><td><div class=\"dni-plaintext\">23</div></td></tr><tr><td>11</td><td>Christopher Nkunku</td><td><div class=\"dni-plaintext\">23</div></td></tr><tr><td>12</td><td>Martin Terrier</td><td><div class=\"dni-plaintext\">24</div></td></tr><tr><td>13</td><td>Kylian Mbapp&#233;</td><td><div class=\"dni-plaintext\">23</div></td></tr><tr><td>14</td><td>Juanmi</td><td><div class=\"dni-plaintext\">21</div></td></tr><tr><td>15</td><td>Joselu</td><td><div class=\"dni-plaintext\">25</div></td></tr><tr><td>16</td><td>Jonathan David</td><td><div class=\"dni-plaintext\">25</div></td></tr><tr><td>17</td><td>Giovanni Simeone</td><td><div class=\"dni-plaintext\">23</div></td></tr><tr><td>18</td><td>Diogo Jota</td><td><div class=\"dni-plaintext\">23</div></td></tr><tr><td>19</td><td>&#193;ngel Correa</td><td><div class=\"dni-plaintext\">25</div></td></tr><tr><td colspan=\"3\"><i>... (more)</i></td></tr></tbody></table>"
      ]
     },
     "metadata": {},
     "output_type": "display_data"
    }
   ],
   "source": [
    "// write your code here, see website for solution.\n",
    "playerStatsTable\n",
    "|> List.map(fun x -> x.Player, x.MatchesPlayed)"
   ]
  },
  {
   "cell_type": "markdown",
   "metadata": {},
   "source": [
    "* Transform each element of the `playerStatsTable` List into a tuple with the player and goals scored ( `Player`, `GoalsScored`)\n",
    "\n",
    "<div style=\"padding-left: 40px;\">\n",
    "<p> \n",
    "<span>\n",
    "<details>\n",
    "<summary><p style=\"display:inline\">answer</p></summary>\n",
    "\n",
    "```\n",
    "input.fsx (1,1)-(1,17) typecheck error The value or constructor 'playerStatsTable' is not defined. Maybe you want one of the following:\n",
    "   playersByPosition\n",
    "input.fsx (2,34)-(2,45) typecheck error The type 'PlayerAndNation' does not define the field, constructor or member 'GoalsScored'.\n",
    "```\n",
    "\n",
    "</details>\n",
    "</span>\n",
    "</p>\n",
    "</div>\n",
    "\n"
   ]
  },
  {
   "cell_type": "code",
   "execution_count": null,
   "metadata": {
    "dotnet_interactive": {
     "language": "fsharp"
    }
   },
   "outputs": [
    {
     "data": {
      "text/html": [
       "<table><thead><tr><th><i>index</i></th><th>Item1</th><th>Item2</th></tr></thead><tbody><tr><td>0</td><td>Robert Lewandowski</td><td><div class=\"dni-plaintext\">28</div></td></tr><tr><td>1</td><td>Patrik Schick</td><td><div class=\"dni-plaintext\">20</div></td></tr><tr><td>2</td><td>Ciro Immobile</td><td><div class=\"dni-plaintext\">19</div></td></tr><tr><td>3</td><td>Karim Benzema</td><td><div class=\"dni-plaintext\">18</div></td></tr><tr><td>4</td><td>Mohamed Salah</td><td><div class=\"dni-plaintext\">17</div></td></tr><tr><td>5</td><td>Dušan Vlahović</td><td><div class=\"dni-plaintext\">17</div></td></tr><tr><td>6</td><td>Erling Haaland</td><td><div class=\"dni-plaintext\">16</div></td></tr><tr><td>7</td><td>Anthony Modeste</td><td><div class=\"dni-plaintext\">15</div></td></tr><tr><td>8</td><td>Wissam Ben Yedder</td><td><div class=\"dni-plaintext\">14</div></td></tr><tr><td>9</td><td>Vinicius J&#250;nior</td><td><div class=\"dni-plaintext\">13</div></td></tr><tr><td>10</td><td>Ra&#250;l de Tom&#225;s</td><td><div class=\"dni-plaintext\">13</div></td></tr><tr><td>11</td><td>Christopher Nkunku</td><td><div class=\"dni-plaintext\">13</div></td></tr><tr><td>12</td><td>Martin Terrier</td><td><div class=\"dni-plaintext\">12</div></td></tr><tr><td>13</td><td>Kylian Mbapp&#233;</td><td><div class=\"dni-plaintext\">12</div></td></tr><tr><td>14</td><td>Juanmi</td><td><div class=\"dni-plaintext\">12</div></td></tr><tr><td>15</td><td>Joselu</td><td><div class=\"dni-plaintext\">12</div></td></tr><tr><td>16</td><td>Jonathan David</td><td><div class=\"dni-plaintext\">12</div></td></tr><tr><td>17</td><td>Giovanni Simeone</td><td><div class=\"dni-plaintext\">12</div></td></tr><tr><td>18</td><td>Diogo Jota</td><td><div class=\"dni-plaintext\">12</div></td></tr><tr><td>19</td><td>&#193;ngel Correa</td><td><div class=\"dni-plaintext\">11</div></td></tr><tr><td colspan=\"3\"><i>... (more)</i></td></tr></tbody></table>"
      ]
     },
     "metadata": {},
     "output_type": "display_data"
    }
   ],
   "source": [
    "// write your code here, see website for solution.\n",
    "playerStatsTable\n",
    "|> List.map(fun x -> x.Player, x.GoalsScored)"
   ]
  },
  {
   "cell_type": "markdown",
   "metadata": {},
   "source": [
    "Example: Define a record named `PlayerAndNation` with a field named `Player` that is a `string` and `Nation` that is a `string`.\n",
    "Then transform each element of the `playerStatsTable` List into a `PlayerAndNation` record.\n",
    "\n"
   ]
  },
  {
   "cell_type": "code",
   "execution_count": null,
   "metadata": {
    "dotnet_interactive": {
     "language": "fsharp"
    }
   },
   "outputs": [],
   "source": [
    "type PlayerAndNation =\n",
    "    { Player : string \n",
    "      Nation : string }\n"
   ]
  },
  {
   "cell_type": "markdown",
   "metadata": {},
   "source": [
    "The above code creates a record type called `PlayerAndNation`.\n",
    "This record contains two fields: `Player` of `string` type and `Nation` of `string` type.\n",
    "Remember, if the types from the csv file are different an error will occur when creating an instance of the record.\n",
    "\n",
    "Common types:\n",
    "\n",
    "* `string`, example: `\"hello world\"`\n",
    "\n",
    "* `int`, example: `2`\n",
    "\n",
    "* `float`, example: `2.0`\n",
    "\n",
    "* `decimal`, example: `2.0m`\n",
    "\n",
    "Check [basic types documentation](https://docs.microsoft.com/en-us/dotnet/fsharp/language-reference/basic-types)\n",
    "to learn about F# basic types.\n",
    "\n",
    "Now by having the record type created we can `map` the `playerStatsTable` rows to the record `PlayerAndNation`.\n",
    "\n"
   ]
  },
  {
   "cell_type": "code",
   "execution_count": null,
   "metadata": {
    "dotnet_interactive": {
     "language": "fsharp"
    }
   },
   "outputs": [
    {
     "data": {
      "text/html": [
       "<table><thead><tr><th><i>index</i></th><th>Player</th><th>Nation</th></tr></thead><tbody><tr><td>0</td><td>Robert Lewandowski</td><td>pl POL</td></tr><tr><td>1</td><td>Patrik Schick</td><td>cz CZE</td></tr><tr><td>2</td><td>Ciro Immobile</td><td>it ITA</td></tr><tr><td>3</td><td>Karim Benzema</td><td>fr FRA</td></tr><tr><td>4</td><td>Mohamed Salah</td><td>eg EGY</td></tr></tbody></table>"
      ]
     },
     "metadata": {},
     "output_type": "display_data"
    }
   ],
   "source": [
    "playerStatsTable\n",
    "|> List.map(fun x -> \n",
    "    { Player = x.Player\n",
    "      Nation = x.Nation })\n",
    "|> List.truncate 5 //just to observe the first 5 rows, not a part of the exercise.\n"
   ]
  },
  {
   "cell_type": "markdown",
   "metadata": {},
   "source": [
    "Note that you choose the name of the fields in the record. Instead of `Player` it could be anything.\n",
    "The following code block for example would have also worked,\n",
    "but the field name for the player is `PlayerName` instead of `Player` and `Nationality` instead of `Nation`:\n",
    "\n"
   ]
  },
  {
   "cell_type": "code",
   "execution_count": null,
   "metadata": {
    "dotnet_interactive": {
     "language": "fsharp"
    }
   },
   "outputs": [
    {
     "data": {
      "text/html": [
       "<table><thead><tr><th><i>index</i></th><th>PlayerName</th><th>Nationality</th></tr></thead><tbody><tr><td>0</td><td>Robert Lewandowski</td><td>pl POL</td></tr><tr><td>1</td><td>Patrik Schick</td><td>cz CZE</td></tr><tr><td>2</td><td>Ciro Immobile</td><td>it ITA</td></tr><tr><td>3</td><td>Karim Benzema</td><td>fr FRA</td></tr><tr><td>4</td><td>Mohamed Salah</td><td>eg EGY</td></tr><tr><td>5</td><td>Dušan Vlahović</td><td>rs SRB</td></tr><tr><td>6</td><td>Erling Haaland</td><td>no NOR</td></tr><tr><td>7</td><td>Anthony Modeste</td><td>fr FRA</td></tr><tr><td>8</td><td>Wissam Ben Yedder</td><td>fr FRA</td></tr><tr><td>9</td><td>Vinicius J&#250;nior</td><td>br BRA</td></tr><tr><td>10</td><td>Ra&#250;l de Tom&#225;s</td><td>es ESP</td></tr><tr><td>11</td><td>Christopher Nkunku</td><td>fr FRA</td></tr><tr><td>12</td><td>Martin Terrier</td><td>fr FRA</td></tr><tr><td>13</td><td>Kylian Mbapp&#233;</td><td>fr FRA</td></tr><tr><td>14</td><td>Juanmi</td><td>es ESP</td></tr><tr><td>15</td><td>Joselu</td><td>es ESP</td></tr><tr><td>16</td><td>Jonathan David</td><td>ca CAN</td></tr><tr><td>17</td><td>Giovanni Simeone</td><td>ar ARG</td></tr><tr><td>18</td><td>Diogo Jota</td><td>pt POR</td></tr><tr><td>19</td><td>&#193;ngel Correa</td><td>ar ARG</td></tr><tr><td colspan=\"3\"><i>... (more)</i></td></tr></tbody></table>"
      ]
     },
     "metadata": {},
     "output_type": "display_data"
    }
   ],
   "source": [
    "type PlayerAndNation =\n",
    "    { PlayerName : string \n",
    "      Nationality : string }\n",
    "\n",
    "playerStatsTable\n",
    "|> List.map(fun x -> \n",
    "    { PlayerName = x.Player\n",
    "      Nationality = x.Nation })\n"
   ]
  },
  {
   "cell_type": "markdown",
   "metadata": {},
   "source": [
    "* Define a record named `PlayerAndTeam` with a field named `Player` that is a `string` and `Team` that is a `string`. \n",
    "Then transform each element of the `playerStatsTable` List into a `PlayerAndTeam` record.\n",
    "\n",
    "<div style=\"padding-left: 40px;\">\n",
    "<p> \n",
    "<span>\n",
    "<details>\n",
    "<summary><p style=\"display:inline\">answer</p></summary>\n",
    "\n",
    "```\n",
    "input.fsx (5,1)-(5,17) typecheck error The value or constructor 'playerStatsTable' is not defined. Maybe you want one of the following:\n",
    "   PlayerAndTeam\n",
    "   playersByPosition\n",
    "```\n",
    "\n",
    "</details>\n",
    "</span>\n",
    "</p>\n",
    "</div>\n",
    "\n"
   ]
  },
  {
   "cell_type": "code",
   "execution_count": null,
   "metadata": {
    "dotnet_interactive": {
     "language": "fsharp"
    }
   },
   "outputs": [],
   "source": [
    "type PlayerAndTeam =\n",
    "    { Player : string \n",
    "      Team : string }\n",
    "\n",
    "let PlayerAndTeam =playerStatsTable |> List.map(fun x -> \n",
    "    { Player = x.Player\n",
    "      Team = x.Team })\n"
   ]
  },
  {
   "cell_type": "markdown",
   "metadata": {},
   "source": [
    "* Define a record named `PlayerAndLeague` with a field named `Player` that is a `string` and `League` that is a `string`. \n",
    "Then transform each element of the `playerStatsTable` List into a `PlayerAndLeague` record.\n",
    "\n",
    "<div style=\"padding-left: 40px;\">\n",
    "<p> \n",
    "<span>\n",
    "<details>\n",
    "<summary><p style=\"display:inline\">answer</p></summary>\n",
    "\n",
    "```\n",
    "input.fsx (5,1)-(5,17) typecheck error The value or constructor 'playerStatsTable' is not defined. Maybe you want one of the following:\n",
    "   playersByPosition\n",
    "```\n",
    "\n",
    "</details>\n",
    "</span>\n",
    "</p>\n",
    "</div>\n",
    "\n"
   ]
  },
  {
   "cell_type": "code",
   "execution_count": null,
   "metadata": {
    "dotnet_interactive": {
     "language": "fsharp"
    }
   },
   "outputs": [
    {
     "data": {
      "text/html": [
       "<table><thead><tr><th><i>index</i></th><th>Player</th><th>Team</th></tr></thead><tbody><tr><td>0</td><td>Robert Lewandowski</td><td>deBundesliga</td></tr><tr><td>1</td><td>Patrik Schick</td><td>deBundesliga</td></tr><tr><td>2</td><td>Ciro Immobile</td><td>itSerie A</td></tr><tr><td>3</td><td>Karim Benzema</td><td>esLa Liga</td></tr><tr><td>4</td><td>Mohamed Salah</td><td>engPremier League</td></tr><tr><td>5</td><td>Dušan Vlahović</td><td>itSerie A</td></tr><tr><td>6</td><td>Erling Haaland</td><td>deBundesliga</td></tr><tr><td>7</td><td>Anthony Modeste</td><td>deBundesliga</td></tr><tr><td>8</td><td>Wissam Ben Yedder</td><td>frLigue 1</td></tr><tr><td>9</td><td>Vinicius J&#250;nior</td><td>esLa Liga</td></tr><tr><td>10</td><td>Ra&#250;l de Tom&#225;s</td><td>esLa Liga</td></tr><tr><td>11</td><td>Christopher Nkunku</td><td>deBundesliga</td></tr><tr><td>12</td><td>Martin Terrier</td><td>frLigue 1</td></tr><tr><td>13</td><td>Kylian Mbapp&#233;</td><td>frLigue 1</td></tr><tr><td>14</td><td>Juanmi</td><td>esLa Liga</td></tr><tr><td>15</td><td>Joselu</td><td>esLa Liga</td></tr><tr><td>16</td><td>Jonathan David</td><td>frLigue 1</td></tr><tr><td>17</td><td>Giovanni Simeone</td><td>itSerie A</td></tr><tr><td>18</td><td>Diogo Jota</td><td>engPremier League</td></tr><tr><td>19</td><td>&#193;ngel Correa</td><td>esLa Liga</td></tr><tr><td colspan=\"3\"><i>... (more)</i></td></tr></tbody></table>"
      ]
     },
     "metadata": {},
     "output_type": "display_data"
    }
   ],
   "source": [
    "// write your code here, see website for solution.\n",
    "type PlayerAndLeague =\n",
    "    { Player : string \n",
    "      League : string }\n",
    "\n",
    "let PlayerAndLeague =playerStatsTable |> List.map(fun x -> \n",
    "    { Player = x.Player\n",
    "      Team = x.League })\n",
    "\n",
    "PlayerAndLeague"
   ]
  },
  {
   "cell_type": "markdown",
   "metadata": {},
   "source": [
    "* Define a record named `PlayerAndAge` with a field named `Player` that is a `string` and `Age` that is a integer(`int`). \n",
    "Then transform each element of the `playerStatsTable` List into a `PlayerAndAge` record.\n",
    "\n",
    "<div style=\"padding-left: 40px;\">\n",
    "<p> \n",
    "<span>\n",
    "<details>\n",
    "<summary><p style=\"display:inline\">answer</p></summary>\n",
    "\n",
    "```\n",
    "input.fsx (5,1)-(5,17) typecheck error The value or constructor 'playerStatsTable' is not defined. Maybe you want one of the following:\n",
    "   PlayerAndAge\n",
    "   playersByPosition\n",
    "```\n",
    "\n",
    "</details>\n",
    "</span>\n",
    "</p>\n",
    "</div>\n",
    "\n"
   ]
  },
  {
   "cell_type": "code",
   "execution_count": null,
   "metadata": {
    "dotnet_interactive": {
     "language": "fsharp"
    }
   },
   "outputs": [
    {
     "data": {
      "text/html": [
       "<table><thead><tr><th><i>index</i></th><th>Player</th><th>Age</th></tr></thead><tbody><tr><td>0</td><td>Robert Lewandowski</td><td><div class=\"dni-plaintext\">33</div></td></tr><tr><td>1</td><td>Patrik Schick</td><td><div class=\"dni-plaintext\">26</div></td></tr><tr><td>2</td><td>Ciro Immobile</td><td><div class=\"dni-plaintext\">32</div></td></tr><tr><td>3</td><td>Karim Benzema</td><td><div class=\"dni-plaintext\">34</div></td></tr><tr><td>4</td><td>Mohamed Salah</td><td><div class=\"dni-plaintext\">29</div></td></tr><tr><td>5</td><td>Dušan Vlahović</td><td><div class=\"dni-plaintext\">22</div></td></tr><tr><td>6</td><td>Erling Haaland</td><td><div class=\"dni-plaintext\">21</div></td></tr><tr><td>7</td><td>Anthony Modeste</td><td><div class=\"dni-plaintext\">33</div></td></tr><tr><td>8</td><td>Wissam Ben Yedder</td><td><div class=\"dni-plaintext\">31</div></td></tr><tr><td>9</td><td>Vinicius J&#250;nior</td><td><div class=\"dni-plaintext\">21</div></td></tr><tr><td>10</td><td>Ra&#250;l de Tom&#225;s</td><td><div class=\"dni-plaintext\">27</div></td></tr><tr><td>11</td><td>Christopher Nkunku</td><td><div class=\"dni-plaintext\">24</div></td></tr><tr><td>12</td><td>Martin Terrier</td><td><div class=\"dni-plaintext\">24</div></td></tr><tr><td>13</td><td>Kylian Mbapp&#233;</td><td><div class=\"dni-plaintext\">23</div></td></tr><tr><td>14</td><td>Juanmi</td><td><div class=\"dni-plaintext\">28</div></td></tr><tr><td>15</td><td>Joselu</td><td><div class=\"dni-plaintext\">31</div></td></tr><tr><td>16</td><td>Jonathan David</td><td><div class=\"dni-plaintext\">22</div></td></tr><tr><td>17</td><td>Giovanni Simeone</td><td><div class=\"dni-plaintext\">26</div></td></tr><tr><td>18</td><td>Diogo Jota</td><td><div class=\"dni-plaintext\">25</div></td></tr><tr><td>19</td><td>&#193;ngel Correa</td><td><div class=\"dni-plaintext\">26</div></td></tr><tr><td colspan=\"3\"><i>... (more)</i></td></tr></tbody></table>"
      ]
     },
     "metadata": {},
     "output_type": "display_data"
    }
   ],
   "source": [
    "// write your code here, see website for solution.\n",
    "type PlayerAndAge =\n",
    "    { Player : string \n",
    "      Age : int }\n",
    "\n",
    "let PlayerAndAge =playerStatsTable |> List.map(fun x -> \n",
    "    { Player = x.Player\n",
    "      Age = x.Age })\n",
    "\n",
    "PlayerAndAge"
   ]
  },
  {
   "cell_type": "markdown",
   "metadata": {},
   "source": [
    "* Define a record named `PlayerAndMatchesPlayed` with a field named `Player` that is a `string` and `MatchesPlayed` that is a integer(`int`). \n",
    "Then transform each element of the `playerStatsTable` List into a `PlayerAndMatchesPlayed` record.\n",
    "\n",
    "<div style=\"padding-left: 40px;\">\n",
    "<p> \n",
    "<span>\n",
    "<details>\n",
    "<summary><p style=\"display:inline\">answer</p></summary>\n",
    "\n",
    "```\n",
    "input.fsx (5,1)-(5,17) typecheck error The value or constructor 'playerStatsTable' is not defined. Maybe you want one of the following:\n",
    "   PlayerAndMatchesPlayed\n",
    "   playersByPosition\n",
    "```\n",
    "\n",
    "</details>\n",
    "</span>\n",
    "</p>\n",
    "</div>\n",
    "\n"
   ]
  },
  {
   "cell_type": "code",
   "execution_count": null,
   "metadata": {
    "dotnet_interactive": {
     "language": "fsharp"
    }
   },
   "outputs": [
    {
     "data": {
      "text/html": [
       "<table><thead><tr><th><i>index</i></th><th>Player</th><th>MatchesPlayed</th></tr></thead><tbody><tr><td>0</td><td>Robert Lewandowski</td><td><div class=\"dni-plaintext\">23</div></td></tr><tr><td>1</td><td>Patrik Schick</td><td><div class=\"dni-plaintext\">20</div></td></tr><tr><td>2</td><td>Ciro Immobile</td><td><div class=\"dni-plaintext\">21</div></td></tr><tr><td>3</td><td>Karim Benzema</td><td><div class=\"dni-plaintext\">22</div></td></tr><tr><td>4</td><td>Mohamed Salah</td><td><div class=\"dni-plaintext\">23</div></td></tr><tr><td>5</td><td>Dušan Vlahović</td><td><div class=\"dni-plaintext\">21</div></td></tr><tr><td>6</td><td>Erling Haaland</td><td><div class=\"dni-plaintext\">14</div></td></tr><tr><td>7</td><td>Anthony Modeste</td><td><div class=\"dni-plaintext\">22</div></td></tr><tr><td>8</td><td>Wissam Ben Yedder</td><td><div class=\"dni-plaintext\">24</div></td></tr><tr><td>9</td><td>Vinicius J&#250;nior</td><td><div class=\"dni-plaintext\">23</div></td></tr><tr><td>10</td><td>Ra&#250;l de Tom&#225;s</td><td><div class=\"dni-plaintext\">23</div></td></tr><tr><td>11</td><td>Christopher Nkunku</td><td><div class=\"dni-plaintext\">23</div></td></tr><tr><td>12</td><td>Martin Terrier</td><td><div class=\"dni-plaintext\">24</div></td></tr><tr><td>13</td><td>Kylian Mbapp&#233;</td><td><div class=\"dni-plaintext\">23</div></td></tr><tr><td>14</td><td>Juanmi</td><td><div class=\"dni-plaintext\">21</div></td></tr><tr><td>15</td><td>Joselu</td><td><div class=\"dni-plaintext\">25</div></td></tr><tr><td>16</td><td>Jonathan David</td><td><div class=\"dni-plaintext\">25</div></td></tr><tr><td>17</td><td>Giovanni Simeone</td><td><div class=\"dni-plaintext\">23</div></td></tr><tr><td>18</td><td>Diogo Jota</td><td><div class=\"dni-plaintext\">23</div></td></tr><tr><td>19</td><td>&#193;ngel Correa</td><td><div class=\"dni-plaintext\">25</div></td></tr><tr><td colspan=\"3\"><i>... (more)</i></td></tr></tbody></table>"
      ]
     },
     "metadata": {},
     "output_type": "display_data"
    }
   ],
   "source": [
    "// write your code here, see website for solution.\n",
    "type PlayerAndMatchesPlayed =\n",
    "    { Player : string \n",
    "      MatchesPlayed : int }\n",
    "\n",
    "let PlayerAndMatchesPlayed =playerStatsTable |> List.map(fun x -> \n",
    "    { Player = x.Player\n",
    "      MatchesPlayed = x.MatchesPlayed })\n",
    "\n",
    "PlayerAndMatchesPlayed"
   ]
  },
  {
   "cell_type": "markdown",
   "metadata": {},
   "source": [
    "* Define a record named `PlayerAndGoalsScored` with a field named `Player` that is a `string` and `GoalsScored` that is a integer(`int`). \n",
    "Then transform each element of the `playerStatsTable` List into a `PlayerAndGoalsScored` record.\n",
    "\n",
    "<div style=\"padding-left: 40px;\">\n",
    "<p> \n",
    "<span>\n",
    "<details>\n",
    "<summary><p style=\"display:inline\">answer</p></summary>\n",
    "\n",
    "```\n",
    "input.fsx (5,1)-(5,17) typecheck error The value or constructor 'playerStatsTable' is not defined. Maybe you want one of the following:\n",
    "   playersByPosition\n",
    "```\n",
    "\n",
    "</details>\n",
    "</span>\n",
    "</p>\n",
    "</div>\n",
    "\n"
   ]
  },
  {
   "cell_type": "code",
   "execution_count": null,
   "metadata": {
    "dotnet_interactive": {
     "language": "fsharp"
    }
   },
   "outputs": [
    {
     "data": {
      "text/html": [
       "<table><thead><tr><th><i>index</i></th><th>Player</th><th>GoalsScored</th></tr></thead><tbody><tr><td>0</td><td>Robert Lewandowski</td><td><div class=\"dni-plaintext\">28</div></td></tr><tr><td>1</td><td>Patrik Schick</td><td><div class=\"dni-plaintext\">20</div></td></tr><tr><td>2</td><td>Ciro Immobile</td><td><div class=\"dni-plaintext\">19</div></td></tr><tr><td>3</td><td>Karim Benzema</td><td><div class=\"dni-plaintext\">18</div></td></tr><tr><td>4</td><td>Mohamed Salah</td><td><div class=\"dni-plaintext\">17</div></td></tr><tr><td>5</td><td>Dušan Vlahović</td><td><div class=\"dni-plaintext\">17</div></td></tr><tr><td>6</td><td>Erling Haaland</td><td><div class=\"dni-plaintext\">16</div></td></tr><tr><td>7</td><td>Anthony Modeste</td><td><div class=\"dni-plaintext\">15</div></td></tr><tr><td>8</td><td>Wissam Ben Yedder</td><td><div class=\"dni-plaintext\">14</div></td></tr><tr><td>9</td><td>Vinicius J&#250;nior</td><td><div class=\"dni-plaintext\">13</div></td></tr><tr><td>10</td><td>Ra&#250;l de Tom&#225;s</td><td><div class=\"dni-plaintext\">13</div></td></tr><tr><td>11</td><td>Christopher Nkunku</td><td><div class=\"dni-plaintext\">13</div></td></tr><tr><td>12</td><td>Martin Terrier</td><td><div class=\"dni-plaintext\">12</div></td></tr><tr><td>13</td><td>Kylian Mbapp&#233;</td><td><div class=\"dni-plaintext\">12</div></td></tr><tr><td>14</td><td>Juanmi</td><td><div class=\"dni-plaintext\">12</div></td></tr><tr><td>15</td><td>Joselu</td><td><div class=\"dni-plaintext\">12</div></td></tr><tr><td>16</td><td>Jonathan David</td><td><div class=\"dni-plaintext\">12</div></td></tr><tr><td>17</td><td>Giovanni Simeone</td><td><div class=\"dni-plaintext\">12</div></td></tr><tr><td>18</td><td>Diogo Jota</td><td><div class=\"dni-plaintext\">12</div></td></tr><tr><td>19</td><td>&#193;ngel Correa</td><td><div class=\"dni-plaintext\">11</div></td></tr><tr><td colspan=\"3\"><i>... (more)</i></td></tr></tbody></table>"
      ]
     },
     "metadata": {},
     "output_type": "display_data"
    }
   ],
   "source": [
    "// write yo// write your code here, see website for solution.\n",
    "type PlayerAndGoalsScored =\n",
    "    { Player : string \n",
    "      GoalsScored : int }\n",
    "\n",
    "let PlayerAndGoalsScored =playerStatsTable |> List.map(fun x -> \n",
    "    { Player = x.Player\n",
    "      GoalsScored = x.GoalsScored })\n",
    "\n",
    "PlayerAndGoalsScored\n",
    "\n",
    "// code here, see website for solution.\n"
   ]
  },
  {
   "cell_type": "markdown",
   "metadata": {},
   "source": [
    "Example: Transform each element of the `playerStatsTable` List into an anonymous record with a `Player` field that is a `string` and a `Nation` field that is a `string`.\n",
    "\n",
    "With `Anonymous records` we don't need to define the record type beforehand and we don't need to specify the type of each field.\n",
    "\n"
   ]
  },
  {
   "cell_type": "code",
   "execution_count": 26,
   "metadata": {
    "dotnet_interactive": {
     "language": "fsharp"
    }
   },
   "outputs": [
    {
     "data": {
      "text/plain": [
       "input.fsx (1,1)-(1,17) typecheck error The value or constructor 'playerStatsTable' is not defined. Maybe you want one of the following:\n",
       "\n",
       "   playersByPosition"
      ]
     },
     "execution_count": 26,
     "metadata": {},
     "output_type": "execute_result"
    }
   ],
   "source": [
    "playerStatsTable\n",
    "|> List.map(fun x -> \n",
    "    {| Player = x.Player\n",
    "       Nation = x.Nation |})\n",
    "|> List.truncate 5 //just to observe the first 5 rows, not a part of the exercise.\n"
   ]
  },
  {
   "cell_type": "markdown",
   "metadata": {},
   "source": [
    "* Transform each element of the `playerStatsTable` List into an anonymous record with a `Player` field that is a `string` and a `Team` field that is a `string`.\n",
    "\n",
    "<div style=\"padding-left: 40px;\">\n",
    "<p> \n",
    "<span>\n",
    "<details>\n",
    "<summary><p style=\"display:inline\">answer</p></summary>\n",
    "\n",
    "```\n",
    "input.fsx (1,1)-(1,17) typecheck error The value or constructor 'playerStatsTable' is not defined. Maybe you want one of the following:\n",
    "   playersByPosition\n",
    "input.fsx (4,17)-(4,21) typecheck error The type 'PlayerAndNation' does not define the field, constructor or member 'Team'.\n",
    "```\n",
    "\n",
    "</details>\n",
    "</span>\n",
    "</p>\n",
    "</div>\n",
    "\n"
   ]
  },
  {
   "cell_type": "code",
   "execution_count": null,
   "metadata": {
    "dotnet_interactive": {
     "language": "fsharp"
    }
   },
   "outputs": [
    {
     "data": {
      "text/html": [
       "<table><thead><tr><th><i>index</i></th><th>Player</th><th>Team</th></tr></thead><tbody><tr><td>0</td><td>Robert Lewandowski</td><td>Bayern Munich</td></tr><tr><td>1</td><td>Patrik Schick</td><td>Leverkusen</td></tr><tr><td>2</td><td>Ciro Immobile</td><td>Lazio</td></tr><tr><td>3</td><td>Karim Benzema</td><td>Real Madrid</td></tr><tr><td>4</td><td>Mohamed Salah</td><td>Liverpool</td></tr><tr><td>5</td><td>Dušan Vlahović</td><td>Fiorentina</td></tr><tr><td>6</td><td>Erling Haaland</td><td>Dortmund</td></tr><tr><td>7</td><td>Anthony Modeste</td><td>K&#246;ln</td></tr><tr><td>8</td><td>Wissam Ben Yedder</td><td>Monaco</td></tr><tr><td>9</td><td>Vinicius J&#250;nior</td><td>Real Madrid</td></tr><tr><td>10</td><td>Ra&#250;l de Tom&#225;s</td><td>Espanyol</td></tr><tr><td>11</td><td>Christopher Nkunku</td><td>RB Leipzig</td></tr><tr><td>12</td><td>Martin Terrier</td><td>Rennes</td></tr><tr><td>13</td><td>Kylian Mbapp&#233;</td><td>Paris S-G</td></tr><tr><td>14</td><td>Juanmi</td><td>Betis</td></tr><tr><td>15</td><td>Joselu</td><td>Alav&#233;s</td></tr><tr><td>16</td><td>Jonathan David</td><td>Lille</td></tr><tr><td>17</td><td>Giovanni Simeone</td><td>Hellas Verona</td></tr><tr><td>18</td><td>Diogo Jota</td><td>Liverpool</td></tr><tr><td>19</td><td>&#193;ngel Correa</td><td>Atl&#233;tico Madrid</td></tr><tr><td colspan=\"3\"><i>... (more)</i></td></tr></tbody></table>"
      ]
     },
     "metadata": {},
     "output_type": "display_data"
    }
   ],
   "source": [
    "// write your code here, see website for solution.\n",
    "playerStatsTable\n",
    "|> List.map(fun x -> \n",
    "    {| Player = x.Player\n",
    "       Team = x.Team |})"
   ]
  },
  {
   "cell_type": "markdown",
   "metadata": {},
   "source": [
    "* Transform each element of the `playerStatsTable` List into an anonymous record with a `Player` field that is a `string` and a `League` field that is a `string`.\n",
    "\n",
    "<div style=\"padding-left: 40px;\">\n",
    "<p> \n",
    "<span>\n",
    "<details>\n",
    "<summary><p style=\"display:inline\">answer</p></summary>\n",
    "\n",
    "```\n",
    "input.fsx (1,1)-(1,17) typecheck error The value or constructor 'playerStatsTable' is not defined. Maybe you want one of the following:\n",
    "   playersByPosition\n",
    "input.fsx (4,19)-(4,25) typecheck error The type 'PlayerAndNation' does not define the field, constructor or member 'League'.\n",
    "```\n",
    "\n",
    "</details>\n",
    "</span>\n",
    "</p>\n",
    "</div>\n",
    "\n"
   ]
  },
  {
   "cell_type": "code",
   "execution_count": null,
   "metadata": {
    "dotnet_interactive": {
     "language": "fsharp"
    }
   },
   "outputs": [
    {
     "data": {
      "text/html": [
       "<table><thead><tr><th><i>index</i></th><th>League</th><th>Player</th></tr></thead><tbody><tr><td>0</td><td>deBundesliga</td><td>Robert Lewandowski</td></tr><tr><td>1</td><td>deBundesliga</td><td>Patrik Schick</td></tr><tr><td>2</td><td>itSerie A</td><td>Ciro Immobile</td></tr><tr><td>3</td><td>esLa Liga</td><td>Karim Benzema</td></tr><tr><td>4</td><td>engPremier League</td><td>Mohamed Salah</td></tr><tr><td>5</td><td>itSerie A</td><td>Dušan Vlahović</td></tr><tr><td>6</td><td>deBundesliga</td><td>Erling Haaland</td></tr><tr><td>7</td><td>deBundesliga</td><td>Anthony Modeste</td></tr><tr><td>8</td><td>frLigue 1</td><td>Wissam Ben Yedder</td></tr><tr><td>9</td><td>esLa Liga</td><td>Vinicius J&#250;nior</td></tr><tr><td>10</td><td>esLa Liga</td><td>Ra&#250;l de Tom&#225;s</td></tr><tr><td>11</td><td>deBundesliga</td><td>Christopher Nkunku</td></tr><tr><td>12</td><td>frLigue 1</td><td>Martin Terrier</td></tr><tr><td>13</td><td>frLigue 1</td><td>Kylian Mbapp&#233;</td></tr><tr><td>14</td><td>esLa Liga</td><td>Juanmi</td></tr><tr><td>15</td><td>esLa Liga</td><td>Joselu</td></tr><tr><td>16</td><td>frLigue 1</td><td>Jonathan David</td></tr><tr><td>17</td><td>itSerie A</td><td>Giovanni Simeone</td></tr><tr><td>18</td><td>engPremier League</td><td>Diogo Jota</td></tr><tr><td>19</td><td>esLa Liga</td><td>&#193;ngel Correa</td></tr><tr><td colspan=\"3\"><i>... (more)</i></td></tr></tbody></table>"
      ]
     },
     "metadata": {},
     "output_type": "display_data"
    }
   ],
   "source": [
    "// write your code here, see website for solution.\n",
    "playerStatsTable\n",
    "|> List.map(fun x -> \n",
    "    {|  League = x.League\n",
    "        Player = x.Player |})"
   ]
  },
  {
   "cell_type": "markdown",
   "metadata": {},
   "source": [
    "* Transform each element of the `playerStatsTable` List into an anonymous record with a `Player` field that is a `string` and a `Age` field that is a integer(`int`).\n",
    "\n",
    "<div style=\"padding-left: 40px;\">\n",
    "<p> \n",
    "<span>\n",
    "<details>\n",
    "<summary><p style=\"display:inline\">answer</p></summary>\n",
    "\n",
    "```\n",
    "input.fsx (1,1)-(1,17) typecheck error The value or constructor 'playerStatsTable' is not defined. Maybe you want one of the following:\n",
    "   playersByPosition\n",
    "input.fsx (4,17)-(4,20) typecheck error The type 'PlayerAndNation' does not define the field, constructor or member 'Age'.\n",
    "```\n",
    "\n",
    "</details>\n",
    "</span>\n",
    "</p>\n",
    "</div>\n",
    "\n"
   ]
  },
  {
   "cell_type": "code",
   "execution_count": null,
   "metadata": {
    "dotnet_interactive": {
     "language": "fsharp"
    }
   },
   "outputs": [
    {
     "data": {
      "text/html": [
       "<table><thead><tr><th><i>index</i></th><th>Age</th><th>Player</th></tr></thead><tbody><tr><td>0</td><td><div class=\"dni-plaintext\">33</div></td><td>Robert Lewandowski</td></tr><tr><td>1</td><td><div class=\"dni-plaintext\">26</div></td><td>Patrik Schick</td></tr><tr><td>2</td><td><div class=\"dni-plaintext\">32</div></td><td>Ciro Immobile</td></tr><tr><td>3</td><td><div class=\"dni-plaintext\">34</div></td><td>Karim Benzema</td></tr><tr><td>4</td><td><div class=\"dni-plaintext\">29</div></td><td>Mohamed Salah</td></tr><tr><td>5</td><td><div class=\"dni-plaintext\">22</div></td><td>Dušan Vlahović</td></tr><tr><td>6</td><td><div class=\"dni-plaintext\">21</div></td><td>Erling Haaland</td></tr><tr><td>7</td><td><div class=\"dni-plaintext\">33</div></td><td>Anthony Modeste</td></tr><tr><td>8</td><td><div class=\"dni-plaintext\">31</div></td><td>Wissam Ben Yedder</td></tr><tr><td>9</td><td><div class=\"dni-plaintext\">21</div></td><td>Vinicius J&#250;nior</td></tr><tr><td>10</td><td><div class=\"dni-plaintext\">27</div></td><td>Ra&#250;l de Tom&#225;s</td></tr><tr><td>11</td><td><div class=\"dni-plaintext\">24</div></td><td>Christopher Nkunku</td></tr><tr><td>12</td><td><div class=\"dni-plaintext\">24</div></td><td>Martin Terrier</td></tr><tr><td>13</td><td><div class=\"dni-plaintext\">23</div></td><td>Kylian Mbapp&#233;</td></tr><tr><td>14</td><td><div class=\"dni-plaintext\">28</div></td><td>Juanmi</td></tr><tr><td>15</td><td><div class=\"dni-plaintext\">31</div></td><td>Joselu</td></tr><tr><td>16</td><td><div class=\"dni-plaintext\">22</div></td><td>Jonathan David</td></tr><tr><td>17</td><td><div class=\"dni-plaintext\">26</div></td><td>Giovanni Simeone</td></tr><tr><td>18</td><td><div class=\"dni-plaintext\">25</div></td><td>Diogo Jota</td></tr><tr><td>19</td><td><div class=\"dni-plaintext\">26</div></td><td>&#193;ngel Correa</td></tr><tr><td colspan=\"3\"><i>... (more)</i></td></tr></tbody></table>"
      ]
     },
     "metadata": {},
     "output_type": "display_data"
    }
   ],
   "source": [
    "// write your code here, see website for solution.\n",
    "playerStatsTable\n",
    "|> List.map(fun x -> \n",
    "    {|  Player = x.Player\n",
    "        Age = x.Age |})"
   ]
  },
  {
   "cell_type": "markdown",
   "metadata": {},
   "source": [
    "* Transform each element of the `playerStatsTable` List into an anonymous record with a `Player` field that is a `string` and a `MatchesPlayed` field that is a integer(`int`).\n",
    "\n",
    "<div style=\"padding-left: 40px;\">\n",
    "<p> \n",
    "<span>\n",
    "<details>\n",
    "<summary><p style=\"display:inline\">answer</p></summary>\n",
    "\n",
    "```\n",
    "input.fsx (1,1)-(1,17) typecheck error The value or constructor 'playerStatsTable' is not defined. Maybe you want one of the following:\n",
    "   playersByPosition\n",
    "input.fsx (4,26)-(4,39) typecheck error The type 'PlayerAndNation' does not define the field, constructor or member 'MatchesPlayed'.\n",
    "```\n",
    "\n",
    "</details>\n",
    "</span>\n",
    "</p>\n",
    "</div>\n",
    "\n"
   ]
  },
  {
   "cell_type": "code",
   "execution_count": null,
   "metadata": {
    "dotnet_interactive": {
     "language": "fsharp"
    }
   },
   "outputs": [
    {
     "data": {
      "text/html": [
       "<table><thead><tr><th><i>index</i></th><th>Matches</th><th>Player</th></tr></thead><tbody><tr><td>0</td><td><div class=\"dni-plaintext\">23</div></td><td>Robert Lewandowski</td></tr><tr><td>1</td><td><div class=\"dni-plaintext\">20</div></td><td>Patrik Schick</td></tr><tr><td>2</td><td><div class=\"dni-plaintext\">21</div></td><td>Ciro Immobile</td></tr><tr><td>3</td><td><div class=\"dni-plaintext\">22</div></td><td>Karim Benzema</td></tr><tr><td>4</td><td><div class=\"dni-plaintext\">23</div></td><td>Mohamed Salah</td></tr><tr><td>5</td><td><div class=\"dni-plaintext\">21</div></td><td>Dušan Vlahović</td></tr><tr><td>6</td><td><div class=\"dni-plaintext\">14</div></td><td>Erling Haaland</td></tr><tr><td>7</td><td><div class=\"dni-plaintext\">22</div></td><td>Anthony Modeste</td></tr><tr><td>8</td><td><div class=\"dni-plaintext\">24</div></td><td>Wissam Ben Yedder</td></tr><tr><td>9</td><td><div class=\"dni-plaintext\">23</div></td><td>Vinicius J&#250;nior</td></tr><tr><td>10</td><td><div class=\"dni-plaintext\">23</div></td><td>Ra&#250;l de Tom&#225;s</td></tr><tr><td>11</td><td><div class=\"dni-plaintext\">23</div></td><td>Christopher Nkunku</td></tr><tr><td>12</td><td><div class=\"dni-plaintext\">24</div></td><td>Martin Terrier</td></tr><tr><td>13</td><td><div class=\"dni-plaintext\">23</div></td><td>Kylian Mbapp&#233;</td></tr><tr><td>14</td><td><div class=\"dni-plaintext\">21</div></td><td>Juanmi</td></tr><tr><td>15</td><td><div class=\"dni-plaintext\">25</div></td><td>Joselu</td></tr><tr><td>16</td><td><div class=\"dni-plaintext\">25</div></td><td>Jonathan David</td></tr><tr><td>17</td><td><div class=\"dni-plaintext\">23</div></td><td>Giovanni Simeone</td></tr><tr><td>18</td><td><div class=\"dni-plaintext\">23</div></td><td>Diogo Jota</td></tr><tr><td>19</td><td><div class=\"dni-plaintext\">25</div></td><td>&#193;ngel Correa</td></tr><tr><td colspan=\"3\"><i>... (more)</i></td></tr></tbody></table>"
      ]
     },
     "metadata": {},
     "output_type": "display_data"
    }
   ],
   "source": [
    "// write your code here, see website for solution.\n",
    "playerStatsTable\n",
    "|> List.map(fun x -> \n",
    "    {|  Player = x.Player\n",
    "        Matches = x.MatchesPlayed |})"
   ]
  },
  {
   "cell_type": "markdown",
   "metadata": {},
   "source": [
    "* Transform each element of the `playerStatsTable` List into an anonymous record with a `Player` field that is a `string` and a `GoalsScored` field that is a integer(`int`).\n",
    "\n",
    "<div style=\"padding-left: 40px;\">\n",
    "<p> \n",
    "<span>\n",
    "<details>\n",
    "<summary><p style=\"display:inline\">answer</p></summary>\n",
    "\n",
    "```\n",
    "input.fsx (1,1)-(1,17) typecheck error The value or constructor 'playerStatsTable' is not defined. Maybe you want one of the following:\n",
    "   playersByPosition\n",
    "input.fsx (4,24)-(4,35) typecheck error The type 'PlayerAndNation' does not define the field, constructor or member 'GoalsScored'.\n",
    "```\n",
    "\n",
    "</details>\n",
    "</span>\n",
    "</p>\n",
    "</div>\n",
    "\n"
   ]
  },
  {
   "cell_type": "code",
   "execution_count": null,
   "metadata": {
    "dotnet_interactive": {
     "language": "fsharp"
    }
   },
   "outputs": [
    {
     "data": {
      "text/html": [
       "<table><thead><tr><th><i>index</i></th><th>Goals</th><th>Player</th></tr></thead><tbody><tr><td>0</td><td><div class=\"dni-plaintext\">28</div></td><td>Robert Lewandowski</td></tr><tr><td>1</td><td><div class=\"dni-plaintext\">20</div></td><td>Patrik Schick</td></tr><tr><td>2</td><td><div class=\"dni-plaintext\">19</div></td><td>Ciro Immobile</td></tr><tr><td>3</td><td><div class=\"dni-plaintext\">18</div></td><td>Karim Benzema</td></tr><tr><td>4</td><td><div class=\"dni-plaintext\">17</div></td><td>Mohamed Salah</td></tr><tr><td>5</td><td><div class=\"dni-plaintext\">17</div></td><td>Dušan Vlahović</td></tr><tr><td>6</td><td><div class=\"dni-plaintext\">16</div></td><td>Erling Haaland</td></tr><tr><td>7</td><td><div class=\"dni-plaintext\">15</div></td><td>Anthony Modeste</td></tr><tr><td>8</td><td><div class=\"dni-plaintext\">14</div></td><td>Wissam Ben Yedder</td></tr><tr><td>9</td><td><div class=\"dni-plaintext\">13</div></td><td>Vinicius J&#250;nior</td></tr><tr><td>10</td><td><div class=\"dni-plaintext\">13</div></td><td>Ra&#250;l de Tom&#225;s</td></tr><tr><td>11</td><td><div class=\"dni-plaintext\">13</div></td><td>Christopher Nkunku</td></tr><tr><td>12</td><td><div class=\"dni-plaintext\">12</div></td><td>Martin Terrier</td></tr><tr><td>13</td><td><div class=\"dni-plaintext\">12</div></td><td>Kylian Mbapp&#233;</td></tr><tr><td>14</td><td><div class=\"dni-plaintext\">12</div></td><td>Juanmi</td></tr><tr><td>15</td><td><div class=\"dni-plaintext\">12</div></td><td>Joselu</td></tr><tr><td>16</td><td><div class=\"dni-plaintext\">12</div></td><td>Jonathan David</td></tr><tr><td>17</td><td><div class=\"dni-plaintext\">12</div></td><td>Giovanni Simeone</td></tr><tr><td>18</td><td><div class=\"dni-plaintext\">12</div></td><td>Diogo Jota</td></tr><tr><td>19</td><td><div class=\"dni-plaintext\">11</div></td><td>&#193;ngel Correa</td></tr><tr><td colspan=\"3\"><i>... (more)</i></td></tr></tbody></table>"
      ]
     },
     "metadata": {},
     "output_type": "display_data"
    }
   ],
   "source": [
    "// write your code here, see website for solution.\n",
    "playerStatsTable\n",
    "|> List.map(fun x -> \n",
    "    {|  Goals = x.GoalsScored\n",
    "        Player = x.Player |})"
   ]
  },
  {
   "cell_type": "markdown",
   "metadata": {},
   "source": [
    "Now that you are used to work with `List.map` to organize the data into tuples, records and anonymous records.\n",
    "Let's try to do it while applying some simple transformations as sum, multiplication, type transformations and so on.\n",
    "\n",
    "<h3 class=numbered><a name=Transformations-using-tuples class=anchor href=#Transformations-using-tuples>Transformations using tuples</a></h3>\n",
    "\n",
    "Example: map the `playerStatsTable` to a tuple of player and age, but add 1 to age. ( `Player`, `Age + 1`)\n",
    "\n"
   ]
  },
  {
   "cell_type": "code",
   "execution_count": null,
   "metadata": {
    "dotnet_interactive": {
     "language": "fsharp"
    }
   },
   "outputs": [
    {
     "data": {
      "text/html": [
       "<table><thead><tr><th><i>index</i></th><th>value</th></tr></thead><tbody><tr><td>0</td><td><div class=\"dni-plaintext\">34</div></td></tr><tr><td>1</td><td><div class=\"dni-plaintext\">27</div></td></tr><tr><td>2</td><td><div class=\"dni-plaintext\">33</div></td></tr><tr><td>3</td><td><div class=\"dni-plaintext\">35</div></td></tr><tr><td>4</td><td><div class=\"dni-plaintext\">30</div></td></tr></tbody></table>"
      ]
     },
     "metadata": {},
     "output_type": "display_data"
    }
   ],
   "source": [
    "playerStatsTable\n",
    "|> List.map(fun x -> x.Age + 1)\n",
    "|> List.truncate 5 //just to observe the first 5 rows, not a part of the exercise.\n"
   ]
  },
  {
   "cell_type": "markdown",
   "metadata": {},
   "source": [
    "When to use integers or floats/decimals:\n",
    "\n",
    "0 Use integers if the results of the calculations should be integers (1, 2, 3, 4, ...).\n",
    "\n",
    "1 Use floats or decimals if the results of the calculations may be floats or decimals (1.1, 2.1324, ...).\n",
    "\n",
    "* map the `playerStatsTable` to a tuple of player and goals scored, but multiply goals scored by 10. ( `Player`, `GoalsScored * 10`)\n",
    "\n",
    "<div style=\"padding-left: 40px;\">\n",
    "<p> \n",
    "<span>\n",
    "<details>\n",
    "<summary><p style=\"display:inline\">answer</p></summary>\n",
    "\n",
    "```\n",
    "input.fsx (1,1)-(1,17) typecheck error The value or constructor 'playerStatsTable' is not defined. Maybe you want one of the following:\n",
    "   playersByPosition\n",
    "input.fsx (2,34)-(2,45) typecheck error The type 'PlayerAndNation' does not define the field, constructor or member 'GoalsScored'.\n",
    "```\n",
    "\n",
    "</details>\n",
    "</span>\n",
    "</p>\n",
    "</div>\n",
    "\n"
   ]
  },
  {
   "cell_type": "code",
   "execution_count": null,
   "metadata": {
    "dotnet_interactive": {
     "language": "fsharp"
    }
   },
   "outputs": [
    {
     "data": {
      "text/html": [
       "<table><thead><tr><th><i>index</i></th><th>Item1</th><th>Item2</th></tr></thead><tbody><tr><td>0</td><td>Robert Lewandowski</td><td><div class=\"dni-plaintext\">280</div></td></tr><tr><td>1</td><td>Patrik Schick</td><td><div class=\"dni-plaintext\">200</div></td></tr><tr><td>2</td><td>Ciro Immobile</td><td><div class=\"dni-plaintext\">190</div></td></tr><tr><td>3</td><td>Karim Benzema</td><td><div class=\"dni-plaintext\">180</div></td></tr><tr><td>4</td><td>Mohamed Salah</td><td><div class=\"dni-plaintext\">170</div></td></tr><tr><td>5</td><td>Dušan Vlahović</td><td><div class=\"dni-plaintext\">170</div></td></tr><tr><td>6</td><td>Erling Haaland</td><td><div class=\"dni-plaintext\">160</div></td></tr><tr><td>7</td><td>Anthony Modeste</td><td><div class=\"dni-plaintext\">150</div></td></tr><tr><td>8</td><td>Wissam Ben Yedder</td><td><div class=\"dni-plaintext\">140</div></td></tr><tr><td>9</td><td>Vinicius J&#250;nior</td><td><div class=\"dni-plaintext\">130</div></td></tr><tr><td>10</td><td>Ra&#250;l de Tom&#225;s</td><td><div class=\"dni-plaintext\">130</div></td></tr><tr><td>11</td><td>Christopher Nkunku</td><td><div class=\"dni-plaintext\">130</div></td></tr><tr><td>12</td><td>Martin Terrier</td><td><div class=\"dni-plaintext\">120</div></td></tr><tr><td>13</td><td>Kylian Mbapp&#233;</td><td><div class=\"dni-plaintext\">120</div></td></tr><tr><td>14</td><td>Juanmi</td><td><div class=\"dni-plaintext\">120</div></td></tr><tr><td>15</td><td>Joselu</td><td><div class=\"dni-plaintext\">120</div></td></tr><tr><td>16</td><td>Jonathan David</td><td><div class=\"dni-plaintext\">120</div></td></tr><tr><td>17</td><td>Giovanni Simeone</td><td><div class=\"dni-plaintext\">120</div></td></tr><tr><td>18</td><td>Diogo Jota</td><td><div class=\"dni-plaintext\">120</div></td></tr><tr><td>19</td><td>&#193;ngel Correa</td><td><div class=\"dni-plaintext\">110</div></td></tr><tr><td colspan=\"3\"><i>... (more)</i></td></tr></tbody></table>"
      ]
     },
     "metadata": {},
     "output_type": "display_data"
    }
   ],
   "source": [
    "// write your code here, see website for solution.\n",
    "playerStatsTable\n",
    "|> List.map(fun x -> x.Player, x.GoalsScored*10)"
   ]
  },
  {
   "cell_type": "markdown",
   "metadata": {},
   "source": [
    "* map the `playerStatsTable` to a tuple of player and goals scored, but divide GoalsScored by 2. ( `Player`, `GoalsScored / 2`)\n",
    "\n",
    "<div style=\"padding-left: 40px;\">\n",
    "<p> \n",
    "<span>\n",
    "<details>\n",
    "<summary><p style=\"display:inline\">answer</p></summary>\n",
    "\n",
    "```\n",
    "input.fsx (1,1)-(1,17) typecheck error The value or constructor 'playerStatsTable' is not defined. Maybe you want one of the following:\n",
    "   playersByPosition\n",
    "input.fsx (2,35)-(2,46) typecheck error The type 'PlayerAndNation' does not define the field, constructor or member 'GoalsScored'.\n",
    "```\n",
    "\n",
    "</details>\n",
    "</span>\n",
    "</p>\n",
    "</div>\n",
    "\n"
   ]
  },
  {
   "cell_type": "code",
   "execution_count": null,
   "metadata": {
    "dotnet_interactive": {
     "language": "fsharp"
    }
   },
   "outputs": [
    {
     "data": {
      "text/html": [
       "<table><thead><tr><th><i>index</i></th><th>Item1</th><th>Item2</th></tr></thead><tbody><tr><td>0</td><td>Robert Lewandowski</td><td><div class=\"dni-plaintext\">14</div></td></tr><tr><td>1</td><td>Patrik Schick</td><td><div class=\"dni-plaintext\">10</div></td></tr><tr><td>2</td><td>Ciro Immobile</td><td><div class=\"dni-plaintext\">9</div></td></tr><tr><td>3</td><td>Karim Benzema</td><td><div class=\"dni-plaintext\">9</div></td></tr><tr><td>4</td><td>Mohamed Salah</td><td><div class=\"dni-plaintext\">8</div></td></tr><tr><td>5</td><td>Dušan Vlahović</td><td><div class=\"dni-plaintext\">8</div></td></tr><tr><td>6</td><td>Erling Haaland</td><td><div class=\"dni-plaintext\">8</div></td></tr><tr><td>7</td><td>Anthony Modeste</td><td><div class=\"dni-plaintext\">7</div></td></tr><tr><td>8</td><td>Wissam Ben Yedder</td><td><div class=\"dni-plaintext\">7</div></td></tr><tr><td>9</td><td>Vinicius J&#250;nior</td><td><div class=\"dni-plaintext\">6</div></td></tr><tr><td>10</td><td>Ra&#250;l de Tom&#225;s</td><td><div class=\"dni-plaintext\">6</div></td></tr><tr><td>11</td><td>Christopher Nkunku</td><td><div class=\"dni-plaintext\">6</div></td></tr><tr><td>12</td><td>Martin Terrier</td><td><div class=\"dni-plaintext\">6</div></td></tr><tr><td>13</td><td>Kylian Mbapp&#233;</td><td><div class=\"dni-plaintext\">6</div></td></tr><tr><td>14</td><td>Juanmi</td><td><div class=\"dni-plaintext\">6</div></td></tr><tr><td>15</td><td>Joselu</td><td><div class=\"dni-plaintext\">6</div></td></tr><tr><td>16</td><td>Jonathan David</td><td><div class=\"dni-plaintext\">6</div></td></tr><tr><td>17</td><td>Giovanni Simeone</td><td><div class=\"dni-plaintext\">6</div></td></tr><tr><td>18</td><td>Diogo Jota</td><td><div class=\"dni-plaintext\">6</div></td></tr><tr><td>19</td><td>&#193;ngel Correa</td><td><div class=\"dni-plaintext\">5</div></td></tr><tr><td colspan=\"3\"><i>... (more)</i></td></tr></tbody></table>"
      ]
     },
     "metadata": {},
     "output_type": "display_data"
    }
   ],
   "source": [
    "// write your code here, see website for solution.\n",
    "playerStatsTable\n",
    "|> List.map(fun x -> x.Player, x.GoalsScored/2)"
   ]
  },
  {
   "cell_type": "markdown",
   "metadata": {},
   "source": [
    "In this case, look how dividing using integers rounds the results to the nearest integers.\n",
    "If the results are decimals you might prefer to get exact results.\n",
    "For that you can use floats or decimals types.\n",
    "In order to convert a variable to float you have to use the syntax: `float variable`.\n",
    "\n",
    "Example: map the `playerStatsTable` to a tuple of player and age, but convert age to float. ( `Player`, `float Age`)\n",
    "\n"
   ]
  },
  {
   "cell_type": "code",
   "execution_count": null,
   "metadata": {
    "dotnet_interactive": {
     "language": "fsharp"
    }
   },
   "outputs": [
    {
     "data": {
      "text/html": [
       "<table><thead><tr><th><i>index</i></th><th>Item1</th><th>Item2</th></tr></thead><tbody><tr><td>0</td><td>Robert Lewandowski</td><td><div class=\"dni-plaintext\">33</div></td></tr><tr><td>1</td><td>Patrik Schick</td><td><div class=\"dni-plaintext\">26</div></td></tr><tr><td>2</td><td>Ciro Immobile</td><td><div class=\"dni-plaintext\">32</div></td></tr><tr><td>3</td><td>Karim Benzema</td><td><div class=\"dni-plaintext\">34</div></td></tr><tr><td>4</td><td>Mohamed Salah</td><td><div class=\"dni-plaintext\">29</div></td></tr></tbody></table>"
      ]
     },
     "metadata": {},
     "output_type": "display_data"
    }
   ],
   "source": [
    "playerStatsTable\n",
    "|> List.map(fun x -> x.Player, float x.Age) \n",
    "|> List.truncate 5 //just to observe the first 5 rows, not a part of the exercise.\n"
   ]
  },
  {
   "cell_type": "markdown",
   "metadata": {},
   "source": [
    "* map the `playerStatsTable` to a tuple of player and goals scored, but convert goalsScored to float. ( `Player`, `float GoalsScored`)\n",
    "\n",
    "<div style=\"padding-left: 40px;\">\n",
    "<p> \n",
    "<span>\n",
    "<details>\n",
    "<summary><p style=\"display:inline\">answer</p></summary>\n",
    "\n",
    "```\n",
    "input.fsx (1,1)-(1,17) typecheck error The value or constructor 'playerStatsTable' is not defined. Maybe you want one of the following:\n",
    "   playersByPosition\n",
    "input.fsx (2,40)-(2,51) typecheck error The type 'PlayerAndNation' does not define the field, constructor or member 'GoalsScored'.\n",
    "```\n",
    "\n",
    "</details>\n",
    "</span>\n",
    "</p>\n",
    "</div>\n",
    "\n"
   ]
  },
  {
   "cell_type": "code",
   "execution_count": null,
   "metadata": {
    "dotnet_interactive": {
     "language": "fsharp"
    }
   },
   "outputs": [
    {
     "data": {
      "text/html": [
       "<table><thead><tr><th><i>index</i></th><th>Item1</th><th>Item2</th></tr></thead><tbody><tr><td>0</td><td>Robert Lewandowski</td><td><div class=\"dni-plaintext\">28</div></td></tr><tr><td>1</td><td>Patrik Schick</td><td><div class=\"dni-plaintext\">20</div></td></tr><tr><td>2</td><td>Ciro Immobile</td><td><div class=\"dni-plaintext\">19</div></td></tr><tr><td>3</td><td>Karim Benzema</td><td><div class=\"dni-plaintext\">18</div></td></tr><tr><td>4</td><td>Mohamed Salah</td><td><div class=\"dni-plaintext\">17</div></td></tr><tr><td>5</td><td>Dušan Vlahović</td><td><div class=\"dni-plaintext\">17</div></td></tr><tr><td>6</td><td>Erling Haaland</td><td><div class=\"dni-plaintext\">16</div></td></tr><tr><td>7</td><td>Anthony Modeste</td><td><div class=\"dni-plaintext\">15</div></td></tr><tr><td>8</td><td>Wissam Ben Yedder</td><td><div class=\"dni-plaintext\">14</div></td></tr><tr><td>9</td><td>Vinicius J&#250;nior</td><td><div class=\"dni-plaintext\">13</div></td></tr><tr><td>10</td><td>Ra&#250;l de Tom&#225;s</td><td><div class=\"dni-plaintext\">13</div></td></tr><tr><td>11</td><td>Christopher Nkunku</td><td><div class=\"dni-plaintext\">13</div></td></tr><tr><td>12</td><td>Martin Terrier</td><td><div class=\"dni-plaintext\">12</div></td></tr><tr><td>13</td><td>Kylian Mbapp&#233;</td><td><div class=\"dni-plaintext\">12</div></td></tr><tr><td>14</td><td>Juanmi</td><td><div class=\"dni-plaintext\">12</div></td></tr><tr><td>15</td><td>Joselu</td><td><div class=\"dni-plaintext\">12</div></td></tr><tr><td>16</td><td>Jonathan David</td><td><div class=\"dni-plaintext\">12</div></td></tr><tr><td>17</td><td>Giovanni Simeone</td><td><div class=\"dni-plaintext\">12</div></td></tr><tr><td>18</td><td>Diogo Jota</td><td><div class=\"dni-plaintext\">12</div></td></tr><tr><td>19</td><td>&#193;ngel Correa</td><td><div class=\"dni-plaintext\">11</div></td></tr><tr><td colspan=\"3\"><i>... (more)</i></td></tr></tbody></table>"
      ]
     },
     "metadata": {},
     "output_type": "display_data"
    }
   ],
   "source": [
    "// write your code here, see website for solution.\n",
    "playerStatsTable\n",
    "|> List.map(fun x -> x.Player, float x.GoalsScored)"
   ]
  },
  {
   "cell_type": "markdown",
   "metadata": {},
   "source": [
    "* map the `playerStatsTable` to a tuple of player and goals scored, but divide goalsScored by 2.0. ( `Player`, `GoalsScored / 2.0`)\n",
    "Hint: convert goals scored to float and divide by 2.0 (you can't divide by 2 because if you perform math operations with different types, you'll get an error).\n",
    "\n",
    "<div style=\"padding-left: 40px;\">\n",
    "<p> \n",
    "<span>\n",
    "<details>\n",
    "<summary><p style=\"display:inline\">answer</p></summary>\n",
    "\n",
    "```\n",
    "input.fsx (1,1)-(1,17) typecheck error The value or constructor 'playerStatsTable' is not defined. Maybe you want one of the following:\n",
    "   playersByPosition\n",
    "input.fsx (2,35)-(2,46) typecheck error The type 'PlayerAndNation' does not define the field, constructor or member 'GoalsScored'.\n",
    "```\n",
    "\n",
    "</details>\n",
    "</span>\n",
    "</p>\n",
    "</div>\n",
    "\n"
   ]
  },
  {
   "cell_type": "code",
   "execution_count": null,
   "metadata": {
    "dotnet_interactive": {
     "language": "fsharp"
    }
   },
   "outputs": [
    {
     "data": {
      "text/html": [
       "<table><thead><tr><th><i>index</i></th><th>Item1</th><th>Item2</th></tr></thead><tbody><tr><td>0</td><td>Robert Lewandowski</td><td><div class=\"dni-plaintext\">14</div></td></tr><tr><td>1</td><td>Patrik Schick</td><td><div class=\"dni-plaintext\">10</div></td></tr><tr><td>2</td><td>Ciro Immobile</td><td><div class=\"dni-plaintext\">9.5</div></td></tr><tr><td>3</td><td>Karim Benzema</td><td><div class=\"dni-plaintext\">9</div></td></tr><tr><td>4</td><td>Mohamed Salah</td><td><div class=\"dni-plaintext\">8.5</div></td></tr><tr><td>5</td><td>Dušan Vlahović</td><td><div class=\"dni-plaintext\">8.5</div></td></tr><tr><td>6</td><td>Erling Haaland</td><td><div class=\"dni-plaintext\">8</div></td></tr><tr><td>7</td><td>Anthony Modeste</td><td><div class=\"dni-plaintext\">7.5</div></td></tr><tr><td>8</td><td>Wissam Ben Yedder</td><td><div class=\"dni-plaintext\">7</div></td></tr><tr><td>9</td><td>Vinicius J&#250;nior</td><td><div class=\"dni-plaintext\">6.5</div></td></tr><tr><td>10</td><td>Ra&#250;l de Tom&#225;s</td><td><div class=\"dni-plaintext\">6.5</div></td></tr><tr><td>11</td><td>Christopher Nkunku</td><td><div class=\"dni-plaintext\">6.5</div></td></tr><tr><td>12</td><td>Martin Terrier</td><td><div class=\"dni-plaintext\">6</div></td></tr><tr><td>13</td><td>Kylian Mbapp&#233;</td><td><div class=\"dni-plaintext\">6</div></td></tr><tr><td>14</td><td>Juanmi</td><td><div class=\"dni-plaintext\">6</div></td></tr><tr><td>15</td><td>Joselu</td><td><div class=\"dni-plaintext\">6</div></td></tr><tr><td>16</td><td>Jonathan David</td><td><div class=\"dni-plaintext\">6</div></td></tr><tr><td>17</td><td>Giovanni Simeone</td><td><div class=\"dni-plaintext\">6</div></td></tr><tr><td>18</td><td>Diogo Jota</td><td><div class=\"dni-plaintext\">6</div></td></tr><tr><td>19</td><td>&#193;ngel Correa</td><td><div class=\"dni-plaintext\">5.5</div></td></tr><tr><td colspan=\"3\"><i>... (more)</i></td></tr></tbody></table>"
      ]
     },
     "metadata": {},
     "output_type": "display_data"
    }
   ],
   "source": [
    "// write your code here, see website for solution.\n",
    "playerStatsTable\n",
    "|> List.map(fun x -> x.Player,float x.GoalsScored/2.0)"
   ]
  },
  {
   "cell_type": "markdown",
   "metadata": {},
   "source": [
    "Example: map the `playerStatsTable` to a record of player and age, but add 1 to age. ( `Player`, `Age + 1`)\n",
    "\n"
   ]
  },
  {
   "cell_type": "code",
   "execution_count": null,
   "metadata": {
    "dotnet_interactive": {
     "language": "fsharp"
    }
   },
   "outputs": [
    {
     "data": {
      "text/html": [
       "<table><thead><tr><th><i>index</i></th><th>Player</th><th>AgePlus1Int</th></tr></thead><tbody><tr><td>0</td><td>Robert Lewandowski</td><td><div class=\"dni-plaintext\">34</div></td></tr><tr><td>1</td><td>Patrik Schick</td><td><div class=\"dni-plaintext\">27</div></td></tr><tr><td>2</td><td>Ciro Immobile</td><td><div class=\"dni-plaintext\">33</div></td></tr><tr><td>3</td><td>Karim Benzema</td><td><div class=\"dni-plaintext\">35</div></td></tr><tr><td>4</td><td>Mohamed Salah</td><td><div class=\"dni-plaintext\">30</div></td></tr></tbody></table>"
      ]
     },
     "metadata": {},
     "output_type": "display_data"
    }
   ],
   "source": [
    "type PlayerAndAgePlus1Int =\n",
    "    { Player : string\n",
    "      AgePlus1Int : int }\n",
    "\n",
    "playerStatsTable\n",
    "|> List.map(fun x ->\n",
    "    { Player = x.Player \n",
    "      AgePlus1Int = x.Age + 1})\n",
    "|> List.truncate 5 //just to observe the first 5 rows, not a part of the exercise.\n"
   ]
  },
  {
   "cell_type": "markdown",
   "metadata": {},
   "source": [
    "* map the `playerStatsTable` to a record of player and goals scored, but multiply goals scored by 10. ( `Player`, `GoalsScored * 10`)\n",
    "Hint: You have to create a new type record.\n",
    "\n",
    "<div style=\"padding-left: 40px;\">\n",
    "<p> \n",
    "<span>\n",
    "<details>\n",
    "<summary><p style=\"display:inline\">answer</p></summary>\n",
    "\n",
    "```\n",
    "input.fsx (5,1)-(5,17) typecheck error The value or constructor 'playerStatsTable' is not defined. Maybe you want one of the following:\n",
    "   playersByPosition\n",
    "   PlayerAndGls\n",
    "```\n",
    "\n",
    "</details>\n",
    "</span>\n",
    "</p>\n",
    "</div>\n",
    "\n"
   ]
  },
  {
   "cell_type": "code",
   "execution_count": null,
   "metadata": {
    "dotnet_interactive": {
     "language": "fsharp"
    }
   },
   "outputs": [
    {
     "data": {
      "text/html": [
       "<table><thead><tr><th><i>index</i></th><th>Player</th><th>GoalsTimesTen</th></tr></thead><tbody><tr><td>0</td><td>Robert Lewandowski</td><td><div class=\"dni-plaintext\">280</div></td></tr><tr><td>1</td><td>Patrik Schick</td><td><div class=\"dni-plaintext\">200</div></td></tr><tr><td>2</td><td>Ciro Immobile</td><td><div class=\"dni-plaintext\">190</div></td></tr><tr><td>3</td><td>Karim Benzema</td><td><div class=\"dni-plaintext\">180</div></td></tr><tr><td>4</td><td>Mohamed Salah</td><td><div class=\"dni-plaintext\">170</div></td></tr><tr><td>5</td><td>Dušan Vlahović</td><td><div class=\"dni-plaintext\">170</div></td></tr><tr><td>6</td><td>Erling Haaland</td><td><div class=\"dni-plaintext\">160</div></td></tr><tr><td>7</td><td>Anthony Modeste</td><td><div class=\"dni-plaintext\">150</div></td></tr><tr><td>8</td><td>Wissam Ben Yedder</td><td><div class=\"dni-plaintext\">140</div></td></tr><tr><td>9</td><td>Vinicius J&#250;nior</td><td><div class=\"dni-plaintext\">130</div></td></tr><tr><td>10</td><td>Ra&#250;l de Tom&#225;s</td><td><div class=\"dni-plaintext\">130</div></td></tr><tr><td>11</td><td>Christopher Nkunku</td><td><div class=\"dni-plaintext\">130</div></td></tr><tr><td>12</td><td>Martin Terrier</td><td><div class=\"dni-plaintext\">120</div></td></tr><tr><td>13</td><td>Kylian Mbapp&#233;</td><td><div class=\"dni-plaintext\">120</div></td></tr><tr><td>14</td><td>Juanmi</td><td><div class=\"dni-plaintext\">120</div></td></tr><tr><td>15</td><td>Joselu</td><td><div class=\"dni-plaintext\">120</div></td></tr><tr><td>16</td><td>Jonathan David</td><td><div class=\"dni-plaintext\">120</div></td></tr><tr><td>17</td><td>Giovanni Simeone</td><td><div class=\"dni-plaintext\">120</div></td></tr><tr><td>18</td><td>Diogo Jota</td><td><div class=\"dni-plaintext\">120</div></td></tr><tr><td>19</td><td>&#193;ngel Correa</td><td><div class=\"dni-plaintext\">110</div></td></tr><tr><td colspan=\"3\"><i>... (more)</i></td></tr></tbody></table>"
      ]
     },
     "metadata": {},
     "output_type": "display_data"
    }
   ],
   "source": [
    "// write your code here, see website for solution.\n",
    "type PlayerAndGoalsTimesTen =\n",
    "    { Player : string\n",
    "      GoalsTimesTen : int }\n",
    "\n",
    "playerStatsTable\n",
    "|> List.map(fun x ->\n",
    "    { Player = x.Player \n",
    "      GoalsTimesTen = x.GoalsScored * 10})\n"
   ]
  },
  {
   "cell_type": "markdown",
   "metadata": {},
   "source": [
    "* map the `playerStatsTable` to a record of player and goals scored, but divide goals scored by 2.0. ( `Player`, `float GoalsScored  / 2.0`)\n",
    "Hint: You have to create a new type record, because previous type has goals scored as integers but you want floats.\n",
    "\n",
    "<div style=\"padding-left: 40px;\">\n",
    "<p> \n",
    "<span>\n",
    "<details>\n",
    "<summary><p style=\"display:inline\">answer</p></summary>\n",
    "\n",
    "```\n",
    "input.fsx (5,1)-(5,17) typecheck error The value or constructor 'playerStatsTable' is not defined. Maybe you want one of the following:\n",
    "   playersByPosition\n",
    "input.fsx (8,35)-(8,46) typecheck error The type 'PlayerAndGlsFloat' does not define the field, constructor or member 'GoalsScored'. Maybe you want one of the following:\n",
    "   GoalsScoredFloat\n",
    "```\n",
    "\n",
    "</details>\n",
    "</span>\n",
    "</p>\n",
    "</div>\n",
    "\n"
   ]
  },
  {
   "cell_type": "code",
   "execution_count": null,
   "metadata": {
    "dotnet_interactive": {
     "language": "fsharp"
    }
   },
   "outputs": [
    {
     "data": {
      "text/html": [
       "<table><thead><tr><th><i>index</i></th><th>Player</th><th>GoalsDivByTwo</th></tr></thead><tbody><tr><td>0</td><td>Robert Lewandowski</td><td><div class=\"dni-plaintext\">14</div></td></tr><tr><td>1</td><td>Patrik Schick</td><td><div class=\"dni-plaintext\">10</div></td></tr><tr><td>2</td><td>Ciro Immobile</td><td><div class=\"dni-plaintext\">9.5</div></td></tr><tr><td>3</td><td>Karim Benzema</td><td><div class=\"dni-plaintext\">9</div></td></tr><tr><td>4</td><td>Mohamed Salah</td><td><div class=\"dni-plaintext\">8.5</div></td></tr><tr><td>5</td><td>Dušan Vlahović</td><td><div class=\"dni-plaintext\">8.5</div></td></tr><tr><td>6</td><td>Erling Haaland</td><td><div class=\"dni-plaintext\">8</div></td></tr><tr><td>7</td><td>Anthony Modeste</td><td><div class=\"dni-plaintext\">7.5</div></td></tr><tr><td>8</td><td>Wissam Ben Yedder</td><td><div class=\"dni-plaintext\">7</div></td></tr><tr><td>9</td><td>Vinicius J&#250;nior</td><td><div class=\"dni-plaintext\">6.5</div></td></tr><tr><td>10</td><td>Ra&#250;l de Tom&#225;s</td><td><div class=\"dni-plaintext\">6.5</div></td></tr><tr><td>11</td><td>Christopher Nkunku</td><td><div class=\"dni-plaintext\">6.5</div></td></tr><tr><td>12</td><td>Martin Terrier</td><td><div class=\"dni-plaintext\">6</div></td></tr><tr><td>13</td><td>Kylian Mbapp&#233;</td><td><div class=\"dni-plaintext\">6</div></td></tr><tr><td>14</td><td>Juanmi</td><td><div class=\"dni-plaintext\">6</div></td></tr><tr><td>15</td><td>Joselu</td><td><div class=\"dni-plaintext\">6</div></td></tr><tr><td>16</td><td>Jonathan David</td><td><div class=\"dni-plaintext\">6</div></td></tr><tr><td>17</td><td>Giovanni Simeone</td><td><div class=\"dni-plaintext\">6</div></td></tr><tr><td>18</td><td>Diogo Jota</td><td><div class=\"dni-plaintext\">6</div></td></tr><tr><td>19</td><td>&#193;ngel Correa</td><td><div class=\"dni-plaintext\">5.5</div></td></tr><tr><td colspan=\"3\"><i>... (more)</i></td></tr></tbody></table>"
      ]
     },
     "metadata": {},
     "output_type": "display_data"
    }
   ],
   "source": [
    "// write your code here, see website for solution.\n",
    "type PlayerAndGoalsDivByTwo =\n",
    "    { Player : string\n",
    "      GoalsDivByTwo : float }\n",
    "\n",
    "playerStatsTable\n",
    "|> List.map(fun x ->\n",
    "    { Player = x.Player \n",
    "      GoalsDivByTwo = float x.GoalsScored / 2.0})"
   ]
  },
  {
   "cell_type": "markdown",
   "metadata": {},
   "source": [
    "Example: map the `playerStatsTable` to an anonymoys record of player and age, but add 1 to age. ( `Player`, `Age + 1`)\n",
    "\n"
   ]
  },
  {
   "cell_type": "code",
   "execution_count": null,
   "metadata": {
    "dotnet_interactive": {
     "language": "fsharp"
    }
   },
   "outputs": [
    {
     "data": {
      "text/html": [
       "<table><thead><tr><th><i>index</i></th><th>AgePlus1</th><th>Player</th></tr></thead><tbody><tr><td>0</td><td><div class=\"dni-plaintext\">34</div></td><td>Robert Lewandowski</td></tr><tr><td>1</td><td><div class=\"dni-plaintext\">27</div></td><td>Patrik Schick</td></tr><tr><td>2</td><td><div class=\"dni-plaintext\">33</div></td><td>Ciro Immobile</td></tr><tr><td>3</td><td><div class=\"dni-plaintext\">35</div></td><td>Karim Benzema</td></tr><tr><td>4</td><td><div class=\"dni-plaintext\">30</div></td><td>Mohamed Salah</td></tr></tbody></table>"
      ]
     },
     "metadata": {},
     "output_type": "display_data"
    }
   ],
   "source": [
    "playerStatsTable\n",
    "|> List.map(fun x -> \n",
    "    {| Player = x.Player\n",
    "       AgePlus1 = x.Age + 1 |})\n",
    "|> List.truncate 5 //just to observe the first 5 rows, not a part of the exercise.\n"
   ]
  },
  {
   "cell_type": "code",
   "execution_count": null,
   "metadata": {
    "dotnet_interactive": {
     "language": "fsharp"
    }
   },
   "outputs": [
    {
     "data": {
      "text/html": [
       "<table><thead><tr><th><i>index</i></th><th>AgePlus1Float</th><th>Player</th></tr></thead><tbody><tr><td>0</td><td><div class=\"dni-plaintext\">34</div></td><td>Robert Lewandowski</td></tr><tr><td>1</td><td><div class=\"dni-plaintext\">27</div></td><td>Patrik Schick</td></tr><tr><td>2</td><td><div class=\"dni-plaintext\">33</div></td><td>Ciro Immobile</td></tr><tr><td>3</td><td><div class=\"dni-plaintext\">35</div></td><td>Karim Benzema</td></tr><tr><td>4</td><td><div class=\"dni-plaintext\">30</div></td><td>Mohamed Salah</td></tr></tbody></table>"
      ]
     },
     "metadata": {},
     "output_type": "display_data"
    }
   ],
   "source": [
    "// or \n",
    "\n",
    "playerStatsTable\n",
    "|> List.map(fun x ->\n",
    "    {| Player = x.Player \n",
    "       AgePlus1Float = (float x.Age) + 1.0 |})\n",
    "|> List.truncate 5 //just to observe the first 5 rows, not a part of the exercise.\n"
   ]
  },
  {
   "cell_type": "markdown",
   "metadata": {},
   "source": [
    "* map the `playerStatsTable` to an anonymous record of player and goals scored, but multiply goals scored by 10. ( `Player`, `GoalsScored * 10`)\n",
    "\n",
    "<div style=\"padding-left: 40px;\">\n",
    "<p> \n",
    "<span>\n",
    "<details>\n",
    "<summary><p style=\"display:inline\">answer</p></summary>\n",
    "\n",
    "```\n",
    "input.fsx (1,1)-(1,17) typecheck error The value or constructor 'playerStatsTable' is not defined. Maybe you want one of the following:\n",
    "   playersByPosition\n",
    "input.fsx (4,29)-(4,40) typecheck error The type 'PlayerAndNation' does not define the field, constructor or member 'GoalsScored'.\n",
    "input.fsx (9,1)-(9,17) typecheck error The value or constructor 'playerStatsTable' is not defined. Maybe you want one of the following:\n",
    "   playersByPosition\n",
    "input.fsx (12,33)-(12,44) typecheck error The type 'PlayerAndNation' does not define the field, constructor or member 'GoalsScored'.\n",
    "```\n",
    "\n",
    "</details>\n",
    "</span>\n",
    "</p>\n",
    "</div>\n",
    "\n"
   ]
  },
  {
   "cell_type": "code",
   "execution_count": null,
   "metadata": {
    "dotnet_interactive": {
     "language": "fsharp"
    }
   },
   "outputs": [
    {
     "data": {
      "text/html": [
       "<table><thead><tr><th><i>index</i></th><th>Player</th><th>goalsTimesTen</th></tr></thead><tbody><tr><td>0</td><td>Robert Lewandowski</td><td><div class=\"dni-plaintext\">280</div></td></tr><tr><td>1</td><td>Patrik Schick</td><td><div class=\"dni-plaintext\">200</div></td></tr><tr><td>2</td><td>Ciro Immobile</td><td><div class=\"dni-plaintext\">190</div></td></tr><tr><td>3</td><td>Karim Benzema</td><td><div class=\"dni-plaintext\">180</div></td></tr><tr><td>4</td><td>Mohamed Salah</td><td><div class=\"dni-plaintext\">170</div></td></tr><tr><td>5</td><td>Dušan Vlahović</td><td><div class=\"dni-plaintext\">170</div></td></tr><tr><td>6</td><td>Erling Haaland</td><td><div class=\"dni-plaintext\">160</div></td></tr><tr><td>7</td><td>Anthony Modeste</td><td><div class=\"dni-plaintext\">150</div></td></tr><tr><td>8</td><td>Wissam Ben Yedder</td><td><div class=\"dni-plaintext\">140</div></td></tr><tr><td>9</td><td>Vinicius J&#250;nior</td><td><div class=\"dni-plaintext\">130</div></td></tr><tr><td>10</td><td>Ra&#250;l de Tom&#225;s</td><td><div class=\"dni-plaintext\">130</div></td></tr><tr><td>11</td><td>Christopher Nkunku</td><td><div class=\"dni-plaintext\">130</div></td></tr><tr><td>12</td><td>Martin Terrier</td><td><div class=\"dni-plaintext\">120</div></td></tr><tr><td>13</td><td>Kylian Mbapp&#233;</td><td><div class=\"dni-plaintext\">120</div></td></tr><tr><td>14</td><td>Juanmi</td><td><div class=\"dni-plaintext\">120</div></td></tr><tr><td>15</td><td>Joselu</td><td><div class=\"dni-plaintext\">120</div></td></tr><tr><td>16</td><td>Jonathan David</td><td><div class=\"dni-plaintext\">120</div></td></tr><tr><td>17</td><td>Giovanni Simeone</td><td><div class=\"dni-plaintext\">120</div></td></tr><tr><td>18</td><td>Diogo Jota</td><td><div class=\"dni-plaintext\">120</div></td></tr><tr><td>19</td><td>&#193;ngel Correa</td><td><div class=\"dni-plaintext\">110</div></td></tr><tr><td colspan=\"3\"><i>... (more)</i></td></tr></tbody></table>"
      ]
     },
     "metadata": {},
     "output_type": "display_data"
    }
   ],
   "source": [
    "// write your code here, see website for solution.\n",
    "playerStatsTable\n",
    "|> List.map(fun x ->\n",
    "    {| Player = x.Player \n",
    "       goalsTimesTen =  x.GoalsScored * 10 |})\n"
   ]
  },
  {
   "cell_type": "markdown",
   "metadata": {},
   "source": [
    "* map the `playerStatsTable` to an anonymous record of player and goals scored, but divide goals scored by 2.0. ( `Player`, `float GoalsScored  / 2.0`)\n",
    "Hint: Remember that you have to transform GoalsScored to float.\n",
    "\n",
    "<div style=\"padding-left: 40px;\">\n",
    "<p> \n",
    "<span>\n",
    "<details>\n",
    "<summary><p style=\"display:inline\">answer</p></summary>\n",
    "\n",
    "```\n",
    "input.fsx (1,1)-(1,17) typecheck error The value or constructor 'playerStatsTable' is not defined. Maybe you want one of the following:\n",
    "   playersByPosition\n",
    "input.fsx (4,36)-(4,47) typecheck error The type 'PlayerAndNation' does not define the field, constructor or member 'GoalsScored'.\n",
    "```\n",
    "\n",
    "</details>\n",
    "</span>\n",
    "</p>\n",
    "</div>\n",
    "\n"
   ]
  },
  {
   "cell_type": "code",
   "execution_count": null,
   "metadata": {
    "dotnet_interactive": {
     "language": "fsharp"
    }
   },
   "outputs": [
    {
     "data": {
      "text/html": [
       "<table><thead><tr><th><i>index</i></th><th>GoalsDivByTwo</th><th>Player</th></tr></thead><tbody><tr><td>0</td><td><div class=\"dni-plaintext\">14</div></td><td>Robert Lewandowski</td></tr><tr><td>1</td><td><div class=\"dni-plaintext\">10</div></td><td>Patrik Schick</td></tr><tr><td>2</td><td><div class=\"dni-plaintext\">9.5</div></td><td>Ciro Immobile</td></tr><tr><td>3</td><td><div class=\"dni-plaintext\">9</div></td><td>Karim Benzema</td></tr><tr><td>4</td><td><div class=\"dni-plaintext\">8.5</div></td><td>Mohamed Salah</td></tr><tr><td>5</td><td><div class=\"dni-plaintext\">8.5</div></td><td>Dušan Vlahović</td></tr><tr><td>6</td><td><div class=\"dni-plaintext\">8</div></td><td>Erling Haaland</td></tr><tr><td>7</td><td><div class=\"dni-plaintext\">7.5</div></td><td>Anthony Modeste</td></tr><tr><td>8</td><td><div class=\"dni-plaintext\">7</div></td><td>Wissam Ben Yedder</td></tr><tr><td>9</td><td><div class=\"dni-plaintext\">6.5</div></td><td>Vinicius J&#250;nior</td></tr><tr><td>10</td><td><div class=\"dni-plaintext\">6.5</div></td><td>Ra&#250;l de Tom&#225;s</td></tr><tr><td>11</td><td><div class=\"dni-plaintext\">6.5</div></td><td>Christopher Nkunku</td></tr><tr><td>12</td><td><div class=\"dni-plaintext\">6</div></td><td>Martin Terrier</td></tr><tr><td>13</td><td><div class=\"dni-plaintext\">6</div></td><td>Kylian Mbapp&#233;</td></tr><tr><td>14</td><td><div class=\"dni-plaintext\">6</div></td><td>Juanmi</td></tr><tr><td>15</td><td><div class=\"dni-plaintext\">6</div></td><td>Joselu</td></tr><tr><td>16</td><td><div class=\"dni-plaintext\">6</div></td><td>Jonathan David</td></tr><tr><td>17</td><td><div class=\"dni-plaintext\">6</div></td><td>Giovanni Simeone</td></tr><tr><td>18</td><td><div class=\"dni-plaintext\">6</div></td><td>Diogo Jota</td></tr><tr><td>19</td><td><div class=\"dni-plaintext\">5.5</div></td><td>&#193;ngel Correa</td></tr><tr><td colspan=\"3\"><i>... (more)</i></td></tr></tbody></table>"
      ]
     },
     "metadata": {},
     "output_type": "display_data"
    }
   ],
   "source": [
    "// write your code here, see website for solution.\n",
    "playerStatsTable\n",
    "|> List.map(fun x ->\n",
    "    {| Player = x.Player \n",
    "       GoalsDivByTwo =  float(x.GoalsScored) / 2.0 |})\n"
   ]
  },
  {
   "cell_type": "markdown",
   "metadata": {},
   "source": [
    "Now that you are used to work with records and perform simple Transformations, map `playerStatsTable` to a record type that includes:\n",
    "\n",
    "* Player (`Player`) - type `string`\n",
    "\n",
    "* Nation (`Nation`) - type `string`\n",
    "\n",
    "* League (`League`) - type `string`\n",
    "\n",
    "* AgeNextYear (`Age + 1`) - type `int`\n",
    "\n",
    "* HalfGoalsScored (`GoalsScored / 2.0`) - type `float`\n",
    "\n",
    "Hint: Create a new type.\n",
    "\n",
    "<div style=\"padding-left: 40px;\">\n",
    "<p> \n",
    "<span>\n",
    "<details>\n",
    "<summary><p style=\"display:inline\">answer</p></summary>\n",
    "\n",
    "```\n",
    "input.fsx (8,1)-(8,17) typecheck error The value or constructor 'playerStatsTable' is not defined. Maybe you want one of the following:\n",
    "   playersByPosition\n",
    "input.fsx (13,23)-(13,26) typecheck error The type 'TeamRecord' does not define the field, constructor or member 'Age'.\n",
    "input.fsx (14,33)-(14,44) typecheck error The type 'TeamRecord' does not define the field, constructor or member 'GoalsScored'.\n",
    "```\n",
    "\n",
    "</details>\n",
    "</span>\n",
    "</p>\n",
    "</div>\n",
    "\n"
   ]
  },
  {
   "cell_type": "code",
   "execution_count": null,
   "metadata": {
    "dotnet_interactive": {
     "language": "fsharp"
    }
   },
   "outputs": [
    {
     "data": {
      "text/html": [
       "<table><thead><tr><th><i>index</i></th><th>Player</th><th>Nation</th><th>League</th><th>AgeNextYear</th><th>HalfGoalsScored</th></tr></thead><tbody><tr><td>0</td><td>Robert Lewandowski</td><td>pl POL</td><td>deBundesliga</td><td><div class=\"dni-plaintext\">34</div></td><td><div class=\"dni-plaintext\">14</div></td></tr><tr><td>1</td><td>Patrik Schick</td><td>cz CZE</td><td>deBundesliga</td><td><div class=\"dni-plaintext\">27</div></td><td><div class=\"dni-plaintext\">10</div></td></tr><tr><td>2</td><td>Ciro Immobile</td><td>it ITA</td><td>itSerie A</td><td><div class=\"dni-plaintext\">33</div></td><td><div class=\"dni-plaintext\">9.5</div></td></tr><tr><td>3</td><td>Karim Benzema</td><td>fr FRA</td><td>esLa Liga</td><td><div class=\"dni-plaintext\">35</div></td><td><div class=\"dni-plaintext\">9</div></td></tr><tr><td>4</td><td>Mohamed Salah</td><td>eg EGY</td><td>engPremier League</td><td><div class=\"dni-plaintext\">30</div></td><td><div class=\"dni-plaintext\">8.5</div></td></tr><tr><td>5</td><td>Dušan Vlahović</td><td>rs SRB</td><td>itSerie A</td><td><div class=\"dni-plaintext\">23</div></td><td><div class=\"dni-plaintext\">8.5</div></td></tr><tr><td>6</td><td>Erling Haaland</td><td>no NOR</td><td>deBundesliga</td><td><div class=\"dni-plaintext\">22</div></td><td><div class=\"dni-plaintext\">8</div></td></tr><tr><td>7</td><td>Anthony Modeste</td><td>fr FRA</td><td>deBundesliga</td><td><div class=\"dni-plaintext\">34</div></td><td><div class=\"dni-plaintext\">7.5</div></td></tr><tr><td>8</td><td>Wissam Ben Yedder</td><td>fr FRA</td><td>frLigue 1</td><td><div class=\"dni-plaintext\">32</div></td><td><div class=\"dni-plaintext\">7</div></td></tr><tr><td>9</td><td>Vinicius J&#250;nior</td><td>br BRA</td><td>esLa Liga</td><td><div class=\"dni-plaintext\">22</div></td><td><div class=\"dni-plaintext\">6.5</div></td></tr><tr><td>10</td><td>Ra&#250;l de Tom&#225;s</td><td>es ESP</td><td>esLa Liga</td><td><div class=\"dni-plaintext\">28</div></td><td><div class=\"dni-plaintext\">6.5</div></td></tr><tr><td>11</td><td>Christopher Nkunku</td><td>fr FRA</td><td>deBundesliga</td><td><div class=\"dni-plaintext\">25</div></td><td><div class=\"dni-plaintext\">6.5</div></td></tr><tr><td>12</td><td>Martin Terrier</td><td>fr FRA</td><td>frLigue 1</td><td><div class=\"dni-plaintext\">25</div></td><td><div class=\"dni-plaintext\">6</div></td></tr><tr><td>13</td><td>Kylian Mbapp&#233;</td><td>fr FRA</td><td>frLigue 1</td><td><div class=\"dni-plaintext\">24</div></td><td><div class=\"dni-plaintext\">6</div></td></tr><tr><td>14</td><td>Juanmi</td><td>es ESP</td><td>esLa Liga</td><td><div class=\"dni-plaintext\">29</div></td><td><div class=\"dni-plaintext\">6</div></td></tr><tr><td>15</td><td>Joselu</td><td>es ESP</td><td>esLa Liga</td><td><div class=\"dni-plaintext\">32</div></td><td><div class=\"dni-plaintext\">6</div></td></tr><tr><td>16</td><td>Jonathan David</td><td>ca CAN</td><td>frLigue 1</td><td><div class=\"dni-plaintext\">23</div></td><td><div class=\"dni-plaintext\">6</div></td></tr><tr><td>17</td><td>Giovanni Simeone</td><td>ar ARG</td><td>itSerie A</td><td><div class=\"dni-plaintext\">27</div></td><td><div class=\"dni-plaintext\">6</div></td></tr><tr><td>18</td><td>Diogo Jota</td><td>pt POR</td><td>engPremier League</td><td><div class=\"dni-plaintext\">26</div></td><td><div class=\"dni-plaintext\">6</div></td></tr><tr><td>19</td><td>&#193;ngel Correa</td><td>ar ARG</td><td>esLa Liga</td><td><div class=\"dni-plaintext\">27</div></td><td><div class=\"dni-plaintext\">5.5</div></td></tr><tr><td colspan=\"6\"><i>... (more)</i></td></tr></tbody></table>"
      ]
     },
     "metadata": {},
     "output_type": "display_data"
    }
   ],
   "source": [
    "// write your code here, see website for solution.\n",
    "type LotsofInfo =\n",
    "    { Player : string\n",
    "      Nation : string \n",
    "      League : string\n",
    "      AgeNextYear : int\n",
    "      HalfGoalsScored : float}\n",
    "\n",
    "playerStatsTable\n",
    "|> List.map(fun x ->\n",
    "    { Player = x.Player\n",
    "      Nation = x.Nation\n",
    "      League = x.League\n",
    "      AgeNextYear =  x.Age + 1\n",
    "      HalfGoalsScored = float(x.GoalsScored)/2.0})"
   ]
  }
 ],
 "metadata": {
  "kernelspec": {
   "display_name": ".NET (F#)",
   "language": "F#",
   "name": ".net-fsharp"
  },
  "langauge_info": {
   "file_extension": ".fs",
   "mimetype": "text/x-fsharp",
   "name": "C#",
   "pygments_lexer": "fsharp",
   "version": "4.5"
  }
 },
 "nbformat": 4,
 "nbformat_minor": 1
}
