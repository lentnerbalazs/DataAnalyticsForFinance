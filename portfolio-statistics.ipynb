{
 "cells": [
  {
   "cell_type": "markdown",
   "metadata": {},
   "source": [
    "[![Binder](img/badge-binder.svg)](https://mybinder.org/v2/gh/nhirschey/teaching/gh-pages?filepath=portfolio-statistics.ipynb)&emsp;\n",
    "[![Script](img/badge-script.svg)](/Teaching//portfolio-statistics.fsx)&emsp;\n",
    "[![Notebook](img/badge-notebook.svg)](/Teaching//portfolio-statistics.ipynb)\n",
    "\n",
    "This page covers important fundamentals for building portfolios.\n",
    "\n",
    "* [Portfolio Weights](#Portfolio-Weights)\n",
    "\n",
    "* [Mean and Variance of Portfolio Returns](#Mean-and-Variance-of-Portfolio-Returns)\n",
    "\n",
    "* [Leverage](#Leverage)\n",
    "\n",
    "## Portfolio Weights\n",
    "\n",
    "An investment portfolio consists of positions in assets.\n",
    "It is common to refer to a position's size as its share of\n",
    "the portfolio's total value.\n",
    "This is known as the asset's portfolio weight.\n",
    "\n",
    "The portfolio weight of asset $i$ in portfolio $p$ is\n",
    "\n",
    "$$w_i=(\\text{positionValue}_i)/(\\text{portfolioValue}_p)$$.\n",
    "\n",
    "### Long positions\n",
    "\n",
    "When an investor buys a long position,\n",
    "they pay for the position now and hope to sell it later at a higher price.\n",
    "\n",
    "Let's look at cash flows for long positions.\n",
    "\n",
    "* At time 0: investor has $100 cash and no shares.\n",
    "\n",
    "* At time 1: investor takes their $100 of cash and buys 4 shares \n",
    "of stock at a price of $25 per share. They have no cash and are long 4 shares.\n",
    "\n",
    "* At time 2: the stock has risen to $27, the investor sells their 4 shares.\n",
    "They have $108 of cash and no shares.\n",
    "\n",
    "We can define some functions to update an account given these trades.\n",
    "\n"
   ]
  },
  {
   "cell_type": "code",
   "execution_count": null,
   "metadata": {
    "dotnet_interactive": {
     "language": "fsharp"
    }
   },
   "outputs": [
    {
     "name": "stdout",
     "output_type": "stream",
     "text": [
      "faszom"
     ]
    }
   ],
   "source": [
    "// A record type that defines an account\n",
    "type AccountBalances =\n",
    "    { Time: int\n",
    "      Cash: float \n",
    "      Shares: float }\n",
    "\n",
    "{Time = 30; Cash = 100.0; Shares = 40.0}\n",
    "\n",
    "\n",
    "// A record type that defines a trade\n",
    "type Trade = \n",
    "    { Shares: float \n",
    "      Price : float }\n",
    "\n",
    "\n",
    "{Shares = 1000.0; Price = 15.0}\n",
    "\n",
    "\n",
    "let accountAt0 = { Time = 0; Cash = 100.0; Shares = 0.0 }\n",
    "let tradeAt1 = { Shares = 4.0; Price = 25.0 }\n",
    "\n",
    "// `updateAccount` is a function that updates an account after a trade is made.\n",
    "// \n",
    "// (trade: Trade) restricts the `trade` parameter to data of type `Trade`.\n",
    "//\n",
    "// (inAccount: AccountBalances) restricts the `inAccount` parameter \n",
    "// to data of type `AccountBalances`\n",
    "//\n",
    "let updateAccount (trade: Trade) (inAccount: AccountBalances) =\n",
    "    let tradeValue = trade.Price * trade.Shares\n",
    "    let newCash = inAccount.Cash - tradeValue\n",
    "    let newShares = inAccount.Shares + trade.Shares\n",
    "    let newTime = inAccount.Time + 1\n",
    "    { Time = newTime \n",
    "      Cash = newCash \n",
    "      Shares = newShares }\n",
    "\n",
    "printf  \"faszom\";;\n",
    "\n",
    "// Test data assining\n",
    "\n",
    "let trade = tradeAt1\n",
    "let inAccount = accountAt0\n",
    "\n",
    "let tradeValue = trade.Price * trade.Shares\n",
    "let newCash = inAccount.Cash - tradeValue\n",
    "\n",
    "\n",
    "let newShares = inAccount.Shares + trade.Shares\n",
    "let newTime = inAccount.Time + 1\n",
    "    { Time = newTime \n",
    "      Cash = newCash \n",
    "      Shares = newShares }\n"
   ]
  },
  {
   "cell_type": "markdown",
   "metadata": {},
   "source": [
    "You can make names with spaces using `` before and after.\n",
    "\n"
   ]
  },
  {
   "cell_type": "code",
   "execution_count": null,
   "metadata": {
    "dotnet_interactive": {
     "language": "fsharp"
    }
   },
   "outputs": [
    {
     "data": {
      "text/html": [
       "<table><thead><tr><th>Time</th><th>Cash</th><th>Shares</th></tr></thead><tbody><tr><td><div class=\"dni-plaintext\">1</div></td><td><div class=\"dni-plaintext\">0</div></td><td><div class=\"dni-plaintext\">4</div></td></tr></tbody></table>"
      ]
     },
     "metadata": {},
     "output_type": "display_data"
    }
   ],
   "source": [
    "updateAccount tradeAt1 accountAt0"
   ]
  },
  {
   "cell_type": "code",
   "execution_count": null,
   "metadata": {
    "dotnet_interactive": {
     "language": "fsharp"
    }
   },
   "outputs": [],
   "source": [
    "let ``expected account at t1`` = { Time = 1; Cash = 0.0; Shares = 4.0}\n",
    "let ``actual account at t1`` = updateAccount tradeAt1 accountAt0 \n",
    "\n",
    "if ``actual account at t1`` <> ``expected account at t1`` then\n",
    "    failwith \"You are not updating account correctly after a trade\"\n"
   ]
  },
  {
   "cell_type": "markdown",
   "metadata": {},
   "source": [
    "Now we can calculate how the account value changes over time.\n",
    "\n"
   ]
  },
  {
   "cell_type": "code",
   "execution_count": null,
   "metadata": {
    "dotnet_interactive": {
     "language": "fsharp"
    }
   },
   "outputs": [],
   "source": [
    "let accountAt1 = updateAccount tradeAt1 accountAt0\n"
   ]
  },
  {
   "cell_type": "code",
   "execution_count": null,
   "metadata": {
    "dotnet_interactive": {
     "language": "fsharp"
    }
   },
   "outputs": [
    {
     "data": {
      "text/html": [
       "<table><thead><tr><th>Time</th><th>Cash</th><th>Shares</th></tr></thead><tbody><tr><td><div class=\"dni-plaintext\">2</div></td><td><div class=\"dni-plaintext\">108</div></td><td><div class=\"dni-plaintext\">0</div></td></tr></tbody></table>"
      ]
     },
     "metadata": {},
     "output_type": "display_data"
    }
   ],
   "source": [
    "let tradeAt2 = { Shares = -4.0; Price = 27.0 }\n",
    "let accountAt2 = updateAccount tradeAt2 accountAt1\n",
    "accountAt2 \n"
   ]
  },
  {
   "cell_type": "markdown",
   "metadata": {},
   "source": [
    "We could have also written this code using the pipe operator.\n",
    "\n"
   ]
  },
  {
   "cell_type": "code",
   "execution_count": null,
   "metadata": {
    "dotnet_interactive": {
     "language": "fsharp"
    }
   },
   "outputs": [
    {
     "ename": "Error",
     "evalue": "input.fsx (2,8)-(2,18) typecheck error The type 'AccountBalances' is not compatible with the type 'Printf.TextWriterFormat<obj>'",
     "output_type": "error",
     "traceback": [
      "input.fsx (2,8)-(2,18) typecheck error The type 'AccountBalances' is not compatible with the type 'Printf.TextWriterFormat<obj>'"
     ]
    }
   ],
   "source": [
    "let accountAt1' = accountAt0 |> updateAccount tradeAt1 // same as \"updateAccount tradeAt1 accountAt0\"\n",
    "accountAt1\n",
    "let accountAt2' = accountAt1 |> updateAccount tradeAt2 // same as \"updateAccount tradeAt2 accountAt1\"\n",
    "accountAt2"
   ]
  },
  {
   "cell_type": "markdown",
   "metadata": {},
   "source": [
    "The pipe operator does not look very useful above because\n",
    "we are only doing one operation.\n",
    "It is more useful when you're doing a series of multiple operations.\n",
    "This example recomputes the account value at time 2 by\n",
    "chaining together updates for the trades at times 1 and 2.\n",
    "\n"
   ]
  },
  {
   "cell_type": "code",
   "execution_count": null,
   "metadata": {
    "dotnet_interactive": {
     "language": "fsharp"
    }
   },
   "outputs": [
    {
     "name": "stdout",
     "output_type": "stream",
     "text": [
      "piped version : { Time = 2\n",
      "  Cash = 108.0\n",
      "  Shares = 0.0 }\r\n",
      "original version : { Time = 2\n",
      "  Cash = 108.0\n",
      "  Shares = 0.0 }\r\n"
     ]
    }
   ],
   "source": [
    "let accountAt2'' =\n",
    "    accountAt0\n",
    "    |> updateAccount tradeAt1\n",
    "    |> updateAccount tradeAt2\n",
    "\n",
    "printfn $\"piped version : {accountAt2}\"\n",
    "printfn $\"original version : {accountAt2}\"\n"
   ]
  },
  {
   "cell_type": "markdown",
   "metadata": {},
   "source": [
    "This code is closer to how you would describe it in English:\n",
    "\"Start with the account at time 0,\n",
    "update it for the trade at time 1,\n",
    "then update it for the trade at time 2.\"\n",
    "\n",
    "> Practice: complete the code for the `accountValue` function below.\n",
    "It should calculate total account value of\n",
    "the stock and cash positiions.\n",
    "If it is correct then the account value test below should evaluate to `true`\n",
    "> \n",
    "\n"
   ]
  },
  {
   "cell_type": "code",
   "execution_count": null,
   "metadata": {
    "dotnet_interactive": {
     "language": "fsharp"
    }
   },
   "outputs": [
    {
     "name": "stdout",
     "output_type": "stream",
     "text": [
      "108.000000"
     ]
    }
   ],
   "source": [
    "let Value = accountAt2.Shares*tradeAt2.Price+accountAt2.Cash\n",
    "printf \"%f\" Value"
   ]
  },
  {
   "cell_type": "code",
   "execution_count": null,
   "metadata": {
    "dotnet_interactive": {
     "language": "fsharp"
    }
   },
   "outputs": [],
   "source": [
    "let accountValue (stockPrice: float) (account: AccountBalances) =\n",
    "    account.Cash + (stockPrice * account.Shares)"
   ]
  },
  {
   "cell_type": "code",
   "execution_count": null,
   "metadata": {
    "dotnet_interactive": {
     "language": "fsharp"
    }
   },
   "outputs": [
    {
     "data": {
      "text/html": [
       "<div class=\"dni-plaintext\">108</div>"
      ]
     },
     "metadata": {},
     "output_type": "display_data"
    }
   ],
   "source": [
    "accountValue tradeAt2.Price accountAt2\n"
   ]
  },
  {
   "cell_type": "code",
   "execution_count": null,
   "metadata": {
    "dotnet_interactive": {
     "language": "fsharp"
    }
   },
   "outputs": [],
   "source": [
    "let updateAccount (trade: Trade) (inAccount: AccountBalances) =\n",
    "    let tradeValue = trade.Price * trade.Shares\n",
    "    let newCash = inAccount.Cash - tradeValue\n",
    "    let newShares = inAccount.Shares + trade.Shares\n",
    "    let newTime = inAccount.Time + 1\n",
    "    { Time = newTime \n",
    "      Cash = newCash \n",
    "      Shares = newShares }"
   ]
  },
  {
   "cell_type": "code",
   "execution_count": null,
   "metadata": {
    "dotnet_interactive": {
     "language": "fsharp"
    }
   },
   "outputs": [
    {
     "data": {
      "text/html": [
       "<div class=\"dni-plaintext\">True</div>"
      ]
     },
     "metadata": {},
     "output_type": "display_data"
    }
   ],
   "source": [
    "// simple account value test\n",
    "(accountValue 27.0 accountAt2) = 108.0\n"
   ]
  },
  {
   "cell_type": "markdown",
   "metadata": {},
   "source": [
    "### Portfolio weights of long positions\n",
    "\n",
    "Now that we understand long positions we can calculate portfolio weights for them.\n",
    "Let's calculate weights for an example **Portfolio A** consisting of\n",
    "\n",
    "* $100 invested in AAPL\n",
    "\n",
    "* $300 invested in GOOG\n",
    "\n",
    "* $500 invested in TSLA\n",
    "\n",
    "These are all long positions, meaning that they have positive costs.\n",
    "\n"
   ]
  },
  {
   "cell_type": "code",
   "execution_count": null,
   "metadata": {
    "dotnet_interactive": {
     "language": "fsharp"
    }
   },
   "outputs": [],
   "source": [
    "let aaplPositionValue = 100.0\n",
    "let googPositionValue = 300.0\n",
    "let tslaPositionValue = 500.0\n",
    "\n",
    "// This implies:\n",
    "\n",
    "let portfolioValueA = aaplPositionValue + googPositionValue + tslaPositionValue\n"
   ]
  },
  {
   "cell_type": "markdown",
   "metadata": {},
   "source": [
    "The portfolio weights are then\n",
    "\n"
   ]
  },
  {
   "cell_type": "code",
   "execution_count": null,
   "metadata": {
    "dotnet_interactive": {
     "language": "fsharp"
    }
   },
   "outputs": [
    {
     "name": "stdout",
     "output_type": "stream",
     "text": [
      "0.111111"
     ]
    }
   ],
   "source": [
    "let aaplWeight = aaplPositionValue / portfolioValueA\n",
    "printf \"%f\" aaplWeight\n"
   ]
  },
  {
   "cell_type": "code",
   "execution_count": null,
   "metadata": {
    "dotnet_interactive": {
     "language": "fsharp"
    }
   },
   "outputs": [
    {
     "name": "stdout",
     "output_type": "stream",
     "text": [
      "0.333333"
     ]
    }
   ],
   "source": [
    "let googWeight = googPositionValue / portfolioValueA\n",
    "printf \"%f\" googWeight\n"
   ]
  },
  {
   "cell_type": "code",
   "execution_count": null,
   "metadata": {
    "dotnet_interactive": {
     "language": "fsharp"
    }
   },
   "outputs": [
    {
     "name": "stdout",
     "output_type": "stream",
     "text": [
      "0.555556"
     ]
    }
   ],
   "source": [
    "let tslaWeight = tslaPositionValue / portfolioValueA\n",
    "printf \"%f\" tslaWeight\n",
    "\n"
   ]
  },
  {
   "cell_type": "markdown",
   "metadata": {},
   "source": [
    "These weights for AAPL, GOOG, and TSLA are all positive.\n",
    "Long positions always have positive weights.\n",
    "\n",
    "Another thing to notice is that the portfolio weights add up to one (or 100%):\n",
    "\n"
   ]
  },
  {
   "cell_type": "code",
   "execution_count": null,
   "metadata": {
    "dotnet_interactive": {
     "language": "fsharp"
    }
   },
   "outputs": [
    {
     "data": {
      "text/html": [
       "<div class=\"dni-plaintext\">1</div>"
      ]
     },
     "metadata": {},
     "output_type": "display_data"
    }
   ],
   "source": [
    "aaplWeight + googWeight + tslaWeight\n"
   ]
  },
  {
   "cell_type": "markdown",
   "metadata": {},
   "source": [
    "This portfolio is a net long portfolio,\n",
    "meaning that it costs you money to purchase it.\n",
    "Net long portfolios such as this one must\n",
    "have portfolio weights that add up to one.\n",
    "Due to margin requirements, real-world\n",
    "portfolios are generally net long--you must\n",
    "put up capital to acquire the portfolio.\n",
    "\n",
    "The other type of portfolio is a zero-cost portfolio.\n",
    "As the name implies, zero-cost portfolios do not require any investment to purchase.\n",
    "There is no cost because long positions are funded by offsetting short positions.\n",
    "To see how this works we need to examine how short positions work.\n",
    "\n",
    "### Short positions\n",
    "\n",
    "When an investor buys a long position,\n",
    "they pay for the position now and hope to sell it later at a higher price.\n",
    "A short sale reverses this.\n",
    "The investor sells the position now and hopes to buy it back later at a lower price.\n",
    "\n",
    "We now go through an example to see how the cash flows work.\n",
    "\n",
    "* At time 0: investor has $100 cash and no shares.\n",
    "\n",
    "* At time 1: investor borrows 4 shares of stock and sells them\n",
    "for a price of $25 per share. They have $200 cash and are short 4 shares.\n",
    "\n",
    "* At time 2: the stock has risen to $27, the investor buys back the\n",
    "4 shares that they sold short and returns them to the person that\n",
    "they borrowed them from. They have $92 of cash and 0 shares.\n",
    "\n",
    "The investor's cash and stock balances at the end of each period will look something like\n",
    "\n"
   ]
  },
  {
   "cell_type": "code",
   "execution_count": null,
   "metadata": {
    "dotnet_interactive": {
     "language": "fsharp"
    }
   },
   "outputs": [],
   "source": [
    "let shortAt1 = { Shares = -4.0; Price = 25.0 }\n",
    "let shortCoverAt2 = { Shares = 4.0; Price = 27.0 }\n"
   ]
  },
  {
   "cell_type": "code",
   "execution_count": null,
   "metadata": {
    "dotnet_interactive": {
     "language": "fsharp"
    }
   },
   "outputs": [
    {
     "data": {
      "text/html": [
       "<table><thead><tr><th>Time</th><th>Cash</th><th>Shares</th></tr></thead><tbody><tr><td><div class=\"dni-plaintext\">1</div></td><td><div class=\"dni-plaintext\">200</div></td><td><div class=\"dni-plaintext\">-4</div></td></tr></tbody></table>"
      ]
     },
     "metadata": {},
     "output_type": "display_data"
    }
   ],
   "source": [
    "// positions at t1\n",
    "accountAt0 \n",
    "|> updateAccount shortAt1\n"
   ]
  },
  {
   "cell_type": "code",
   "execution_count": null,
   "metadata": {
    "dotnet_interactive": {
     "language": "fsharp"
    }
   },
   "outputs": [
    {
     "data": {
      "text/html": [
       "<table><thead><tr><th>Time</th><th>Cash</th><th>Shares</th></tr></thead><tbody><tr><td><div class=\"dni-plaintext\">2</div></td><td><div class=\"dni-plaintext\">92</div></td><td><div class=\"dni-plaintext\">0</div></td></tr></tbody></table>"
      ]
     },
     "metadata": {},
     "output_type": "display_data"
    }
   ],
   "source": [
    "// positions at t2\n",
    "accountAt0 \n",
    "|> updateAccount shortAt1 \n",
    "|> updateAccount shortCoverAt2\n"
   ]
  },
  {
   "cell_type": "markdown",
   "metadata": {},
   "source": [
    "### Portfolio weights for short positions\n",
    "\n",
    "Let's create a new portfolio, **Portfolio B**, that includes short sales and calculate weights. Assume that you start with **Portfolio A** and short $150 of AMZN stock. This generates $150 of cash that you have to put somewhere. For individual investors, often your broker puts it in bonds and gives you none of the interest. Institutional investors can get some of the interest or even reinvest the proceeds in something else. We will assume that we are an institution and can reinvest all of the short proceeds. We will take the $150 and add $50 to each of our AAPL, GOOG, and TLSA positions.\n",
    "\n",
    "Short positions have negative portfolio weights.\n",
    "\n"
   ]
  },
  {
   "cell_type": "code",
   "execution_count": null,
   "metadata": {
    "dotnet_interactive": {
     "language": "fsharp"
    }
   },
   "outputs": [],
   "source": [
    "let amznPositionValueB = -150.0\n",
    "let aaplPositionValueB = aaplPositionValue + 50.0\n",
    "let googPositionValueB = googPositionValue + 50.0\n",
    "let tslaPositionValueB = tslaPositionValue + 50.0\n",
    "\n",
    "let portfolioValueB = \n",
    "    amznPositionValueB +\n",
    "    aaplPositionValueB +\n",
    "    googPositionValueB +\n",
    "    tslaPositionValueB\n"
   ]
  },
  {
   "cell_type": "markdown",
   "metadata": {},
   "source": [
    "Compare to **Portfolio A**\n",
    "\n"
   ]
  },
  {
   "cell_type": "code",
   "execution_count": null,
   "metadata": {
    "dotnet_interactive": {
     "language": "fsharp"
    }
   },
   "outputs": [
    {
     "data": {
      "text/html": [
       "<div class=\"dni-plaintext\">True</div>"
      ]
     },
     "metadata": {},
     "output_type": "display_data"
    }
   ],
   "source": [
    "portfolioValueA = portfolioValueB \n"
   ]
  },
  {
   "cell_type": "markdown",
   "metadata": {},
   "source": [
    "The weights in **Portfolio B**:\n",
    "\n"
   ]
  },
  {
   "cell_type": "code",
   "execution_count": null,
   "metadata": {
    "dotnet_interactive": {
     "language": "fsharp"
    }
   },
   "outputs": [],
   "source": [
    "let amznWeightB = amznPositionValueB / portfolioValueB\n"
   ]
  },
  {
   "cell_type": "code",
   "execution_count": null,
   "metadata": {
    "dotnet_interactive": {
     "language": "fsharp"
    }
   },
   "outputs": [],
   "source": [
    "let aaplWeightB = aaplPositionValueB / portfolioValueB\n"
   ]
  },
  {
   "cell_type": "code",
   "execution_count": null,
   "metadata": {
    "dotnet_interactive": {
     "language": "fsharp"
    }
   },
   "outputs": [],
   "source": [
    "let googWeightB = googPositionValueB / portfolioValueB\n"
   ]
  },
  {
   "cell_type": "code",
   "execution_count": null,
   "metadata": {
    "dotnet_interactive": {
     "language": "fsharp"
    }
   },
   "outputs": [],
   "source": [
    "let tslaWeightB = tslaPositionValueB / portfolioValueB\n"
   ]
  },
  {
   "cell_type": "markdown",
   "metadata": {},
   "source": [
    "The weights of **Portfolio B** also add up to one.\n",
    "\n"
   ]
  },
  {
   "cell_type": "code",
   "execution_count": null,
   "metadata": {
    "dotnet_interactive": {
     "language": "fsharp"
    }
   },
   "outputs": [
    {
     "data": {
      "text/html": [
       "<div class=\"dni-plaintext\">1</div>"
      ]
     },
     "metadata": {},
     "output_type": "display_data"
    }
   ],
   "source": [
    "amznWeightB + aaplWeightB + googWeightB + tslaWeightB\n"
   ]
  },
  {
   "cell_type": "markdown",
   "metadata": {},
   "source": [
    "### Zero-cost portfolios\n",
    "\n",
    "Another type of portfolio that you will see is zero-cost portfolios.\n",
    "They are called self funding because the short sale proceeds\n",
    "fund the long investments. The portfolio weights add up to 0.\n",
    "You can scale weights relative to what they would be per $ long or short.\n",
    "\n",
    "An example:\n",
    "\n"
   ]
  },
  {
   "cell_type": "code",
   "execution_count": null,
   "metadata": {
    "dotnet_interactive": {
     "language": "fsharp"
    }
   },
   "outputs": [
    {
     "name": "stdout",
     "output_type": "stream",
     "text": [
      "koWeight is -1.000000\r\n",
      "hogWeight is 0.800000\r\n",
      "yumWeight is 0.200000\r\n"
     ]
    },
    {
     "data": {
      "text/html": [
       "<div class=\"dni-plaintext\">5.551115123125783E-17</div>"
      ]
     },
     "metadata": {},
     "output_type": "display_data"
    }
   ],
   "source": [
    "// Portfolio C\n",
    "let koPositionValue = -50.0\n",
    "let hogPositionValue = 40.0\n",
    "let yumPositionValue = 10.0\n",
    "\n",
    "let dollarsLong = 50.0\n",
    "let koWeight = koPositionValue / dollarsLong\n",
    "let hogWeight = hogPositionValue / dollarsLong\n",
    "let yumWeight = yumPositionValue / dollarsLong\n",
    "\n",
    "printfn \"koWeight is %f\" koWeight\n",
    "printfn \"hogWeight is %f\" hogWeight\n",
    "printfn \"yumWeight is %f\" yumWeight\n",
    "\n",
    "\n",
    "koWeight + hogWeight + yumWeight\n"
   ]
  },
  {
   "cell_type": "markdown",
   "metadata": {},
   "source": [
    "### Calculating weights using a list of positions\n",
    "\n",
    "The calculations that we did thus far required code for each position.\n",
    "We did the same thing to each position, so there was some repetition.\n",
    "We can reduce the repetition by putting the positions into a list\n",
    "and then operating on the elements of the list via iteration.\n",
    "\n"
   ]
  },
  {
   "cell_type": "code",
   "execution_count": null,
   "metadata": {
    "dotnet_interactive": {
     "language": "fsharp"
    }
   },
   "outputs": [],
   "source": [
    "// defining a position record type\n",
    "type Position = { Id: string; PositionValue: float }\n",
    "\n",
    "// assigning a list of positions to a value named portfolio\n",
    "let portfolio =\n",
    "    [ { Id = \"AMZN\"; PositionValue = amznPositionValueB }\n",
    "      { Id = \"AAPL\"; PositionValue = aaplPositionValueB }\n",
    "      { Id = \"GOOG\"; PositionValue = googPositionValueB }\n",
    "      { Id = \"TSLA\"; PositionValue = tslaPositionValueB } ]\n",
    "\n",
    "// This is called a list comprehension\n",
    "let positionValues = [ for p in portfolio -> p.PositionValue ]\n"
   ]
  },
  {
   "cell_type": "code",
   "execution_count": null,
   "metadata": {
    "dotnet_interactive": {
     "language": "fsharp"
    }
   },
   "outputs": [
    {
     "name": "stdout",
     "output_type": "stream",
     "text": [
      "p is { Id = \"AMZN\"\n",
      "  PositionValue = -150.0 }\r\n",
      "p is { Id = \"AAPL\"\n",
      "  PositionValue = 150.0 }\r\n",
      "p is { Id = \"GOOG\"\n",
      "  PositionValue = 350.0 }\r\n",
      "p is { Id = \"TSLA\"\n",
      "  PositionValue = 550.0 }\r\n"
     ]
    }
   ],
   "source": [
    "for p in portfolio do\n",
    "    printfn $\"p is {p}\""
   ]
  },
  {
   "cell_type": "code",
   "execution_count": null,
   "metadata": {
    "dotnet_interactive": {
     "language": "fsharp"
    }
   },
   "outputs": [
    {
     "data": {
      "text/html": [
       "<table><thead><tr><th><i>index</i></th><th>value</th></tr></thead><tbody><tr><td>0</td><td><div class=\"dni-plaintext\">-150</div></td></tr><tr><td>1</td><td><div class=\"dni-plaintext\">150</div></td></tr><tr><td>2</td><td><div class=\"dni-plaintext\">350</div></td></tr><tr><td>3</td><td><div class=\"dni-plaintext\">550</div></td></tr></tbody></table>"
      ]
     },
     "metadata": {},
     "output_type": "display_data"
    }
   ],
   "source": [
    "positionValues"
   ]
  },
  {
   "cell_type": "code",
   "execution_count": null,
   "metadata": {
    "dotnet_interactive": {
     "language": "fsharp"
    }
   },
   "outputs": [
    {
     "data": {
      "text/html": [
       "<table><thead><tr><th><i>index</i></th><th>Id</th><th>PositionValue</th></tr></thead><tbody><tr><td>0</td><td>AMZN</td><td><div class=\"dni-plaintext\">-150</div></td></tr><tr><td>1</td><td>AAPL</td><td><div class=\"dni-plaintext\">150</div></td></tr><tr><td>2</td><td>GOOG</td><td><div class=\"dni-plaintext\">350</div></td></tr><tr><td>3</td><td>TSLA</td><td><div class=\"dni-plaintext\">550</div></td></tr></tbody></table>"
      ]
     },
     "metadata": {},
     "output_type": "display_data"
    }
   ],
   "source": [
    "portfolio"
   ]
  },
  {
   "cell_type": "markdown",
   "metadata": {},
   "source": [
    "The list module has many different functions for operating on lists.\n",
    "If you type `List.` you should see many different functions pop up.\n",
    "These functions are very useful. We will explore them in more detail later.\n",
    "\n",
    "For now, let's see what `List.map` does.\n",
    "\n"
   ]
  },
  {
   "cell_type": "code",
   "execution_count": null,
   "metadata": {
    "dotnet_interactive": {
     "language": "fsharp"
    }
   },
   "outputs": [
    {
     "data": {
      "text/html": [
       "<table><thead><tr><th><i>index</i></th><th>value</th></tr></thead><tbody><tr><td>0</td><td><div class=\"dni-plaintext\">-150</div></td></tr><tr><td>1</td><td><div class=\"dni-plaintext\">150</div></td></tr><tr><td>2</td><td><div class=\"dni-plaintext\">350</div></td></tr><tr><td>3</td><td><div class=\"dni-plaintext\">550</div></td></tr></tbody></table>"
      ]
     },
     "metadata": {},
     "output_type": "display_data"
    }
   ],
   "source": [
    "portfolio |> List.map (fun p -> p.PositionValue)\n"
   ]
  },
  {
   "cell_type": "markdown",
   "metadata": {},
   "source": [
    "This is the same result as the `positionValues` value that we calculated\n",
    "using the list comprehension.\n",
    "`List.map` \"maps\" each element of the list to an output using a function.\n",
    "In this case, our function `(fun p -> p.PositionValue)` was an anonymous function.\n",
    "\n",
    "Another useful function from the list module is `List.sum`.\n",
    "We can use it to calculate the total value of the portfolio by\n",
    "summing position values.\n",
    "\n"
   ]
  },
  {
   "cell_type": "code",
   "execution_count": null,
   "metadata": {
    "dotnet_interactive": {
     "language": "fsharp"
    }
   },
   "outputs": [
    {
     "data": {
      "text/html": [
       "<div class=\"dni-plaintext\">900</div>"
      ]
     },
     "metadata": {},
     "output_type": "display_data"
    }
   ],
   "source": [
    "let portfolioValue = positionValues |> List.sum\n",
    "portfolioValue"
   ]
  },
  {
   "cell_type": "markdown",
   "metadata": {},
   "source": [
    "And with this we can calculate portfolio weights.\n",
    "\n"
   ]
  },
  {
   "cell_type": "code",
   "execution_count": null,
   "metadata": {
    "dotnet_interactive": {
     "language": "fsharp"
    }
   },
   "outputs": [
    {
     "data": {
      "text/html": [
       "<table><thead><tr><th><i>index</i></th><th>Item1</th><th>Item2</th></tr></thead><tbody><tr><td>0</td><td>AMZN</td><td><div class=\"dni-plaintext\">-0.16666666666666666</div></td></tr><tr><td>1</td><td>AAPL</td><td><div class=\"dni-plaintext\">0.16666666666666666</div></td></tr><tr><td>2</td><td>GOOG</td><td><div class=\"dni-plaintext\">0.3888888888888889</div></td></tr><tr><td>3</td><td>TSLA</td><td><div class=\"dni-plaintext\">0.6111111111111112</div></td></tr></tbody></table>"
      ]
     },
     "metadata": {},
     "output_type": "display_data"
    }
   ],
   "source": [
    "let portfolioWeights =\n",
    "    [ for p in portfolio -> \n",
    "        let weight = p.PositionValue / portfolioValue \n",
    "        p.Id, weight ]\n",
    "portfolioWeights\n"
   ]
  },
  {
   "cell_type": "markdown",
   "metadata": {},
   "source": [
    "## Mean and Variance of Portfolio Returns\n",
    "\n",
    "### A portfolio's return.\n",
    "\n",
    "A portfolio's return is the weighted average return of the portfolio's positions.\n",
    "\n",
    "\\begin{equation}\n",
    " r_p = \\Sigma^N_{i=1} w_i r_i,\n",
    "\\end{equation}\n",
    "\n",
    "where $r$ is return, $i$ indexes stocks, and $w$ is portfolio weights.\n",
    "\n"
   ]
  },
  {
   "cell_type": "code",
   "execution_count": null,
   "metadata": {
    "dotnet_interactive": {
     "language": "fsharp"
    }
   },
   "outputs": [
    {
     "data": {
      "text/html": [
       "<table><thead><tr><th><i>index</i></th><th>value</th></tr></thead><tbody><tr><td>0</td><td><div class=\"dni-plaintext\">0.025</div></td></tr><tr><td>1</td><td><div class=\"dni-plaintext\">0.15000000000000002</div></td></tr></tbody></table>"
      ]
     },
     "metadata": {},
     "output_type": "display_data"
    }
   ],
   "source": [
    "type PositionsWithReturn =\n",
    "    { Id: string \n",
    "      Weight: float \n",
    "      Return: float }\n",
    "\n",
    "let exPortfolio =\n",
    "    [ { Id = \"A\"; Weight = 0.25; Return = 0.1 }\n",
    "      { Id = \"B\"; Weight = 0.75; Return = 0.2 } ]\n",
    "\n",
    "let weightsXreturn = [ for pos in exPortfolio -> pos.Weight * pos.Return ]\n",
    "weightsXreturn \n"
   ]
  },
  {
   "cell_type": "code",
   "execution_count": null,
   "metadata": {
    "dotnet_interactive": {
     "language": "fsharp"
    }
   },
   "outputs": [
    {
     "data": {
      "text/html": [
       "<div class=\"dni-plaintext\">0.17500000000000002</div>"
      ]
     },
     "metadata": {},
     "output_type": "display_data"
    }
   ],
   "source": [
    "let exPortfolioReturn = weightsXreturn |> List.sum \n",
    "exPortfolioReturn\n"
   ]
  },
  {
   "cell_type": "markdown",
   "metadata": {},
   "source": [
    "For next time: Portfolio Variance and Leverage\n",
    "\n",
    "## Leverage\n",
    "\n"
   ]
  }
 ],
 "metadata": {
  "kernelspec": {
   "display_name": ".NET (F#)",
   "language": "F#",
   "name": ".net-fsharp"
  },
  "langauge_info": {
   "file_extension": ".fs",
   "mimetype": "text/x-fsharp",
   "name": "C#",
   "pygments_lexer": "fsharp",
   "version": "4.5"
  }
 },
 "nbformat": 4,
 "nbformat_minor": 1
}
